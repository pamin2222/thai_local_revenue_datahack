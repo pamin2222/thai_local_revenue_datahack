{
 "cells": [
  {
   "cell_type": "code",
   "execution_count": 12,
   "id": "b6b997ad068e8601",
   "metadata": {
    "collapsed": false,
    "ExecuteTime": {
     "end_time": "2023-12-07T17:01:00.649665Z",
     "start_time": "2023-12-07T17:01:00.635846Z"
    }
   },
   "outputs": [],
   "source": [
    "import pandas as pd\n",
    "import seaborn as sns\n",
    "from matplotlib import font_manager\n",
    "import matplotlib.pyplot as plt\n",
    "import plotly.express as px\n",
    "import os"
   ]
  },
  {
   "cell_type": "code",
   "execution_count": 13,
   "id": "f84ed2de96e64bd3",
   "metadata": {
    "collapsed": false,
    "ExecuteTime": {
     "end_time": "2023-12-07T17:01:00.675547Z",
     "start_time": "2023-12-07T17:01:00.654703Z"
    }
   },
   "outputs": [
    {
     "name": "stdout",
     "output_type": "stream",
     "text": [
      "['/Users/pmr/Workspace/9geek_data/thai_local_revenue_datahack/assets/th-sarabun-new/THSarabunNew BoldItalic.ttf', '/Users/pmr/Workspace/9geek_data/thai_local_revenue_datahack/assets/th-sarabun-new/THSarabunNew.ttf', '/Users/pmr/Workspace/9geek_data/thai_local_revenue_datahack/assets/th-sarabun-new/THSarabunNew Bold.ttf', '/Users/pmr/Workspace/9geek_data/thai_local_revenue_datahack/assets/th-sarabun-new/THSarabunNew Italic.ttf']\n"
     ]
    }
   ],
   "source": [
    "#Prepare Thai font for matplotlib\n",
    "#ref: https://gist.github.com/korakot/3021b0027607b8102d98faee3a7e156a\n",
    "font_dirs = [\"../assets/th-sarabun-new\"]\n",
    "\n",
    "font_files = font_manager.findSystemFonts(fontpaths=font_dirs)\n",
    "print(font_files)\n",
    "for font_file in font_files:\n",
    "    font_manager.fontManager.addfont(font_file)\n",
    "\n",
    "plt.rcParams['font.family'] = 'TH Sarabun New'\n",
    "plt.rcParams['xtick.labelsize'] = 18.0\n",
    "plt.rcParams['ytick.labelsize'] = 18.0"
   ]
  },
  {
   "cell_type": "code",
   "execution_count": 14,
   "id": "ae2ac82de2576fca",
   "metadata": {
    "collapsed": false,
    "ExecuteTime": {
     "end_time": "2023-12-07T17:01:00.675946Z",
     "start_time": "2023-12-07T17:01:00.663303Z"
    }
   },
   "outputs": [],
   "source": [
    "data_dir = \"../data/\"\n",
    "data_processed_dir = \"../data_processed/\""
   ]
  },
  {
   "cell_type": "code",
   "execution_count": 15,
   "id": "bd3095dbf125098a",
   "metadata": {
    "collapsed": false,
    "ExecuteTime": {
     "end_time": "2023-12-07T17:01:00.784960Z",
     "start_time": "2023-12-07T17:01:00.670693Z"
    }
   },
   "outputs": [
    {
     "data": {
      "text/plain": "       ลำดับ ชื่อท้องถิ่น          อำเภอ      จังหวัด  พื้นที่ (ตร.กม.)  \\\n32602  7,850   อบต.หนองบก  เหล่าเสือโก้ก  อุบลราชธานี              50.0   \n\n       ประชากร  ภาษีโรงเรือนและที่ดิน  ภาษีบำรุงท้องที่  ภาษีป้าย  \\\n32602   7823.0                    NaN               NaN  100360.0   \n\n       อากรการฆ่าสัตว์  ...  ค่าธรรมเนียมน้ำบาดาล  \\\n32602              NaN  ...                4300.0   \n\n       ค่าธรรมเนียมการจดทะเบียนสิทธิและนิติกรรมตามประมวลกฎหมายที่ดิน  \\\n32602                                          1521658.0               \n\n       ภาษีจัดสรรอื่น  รายได้รัฐจัดสรร  เงินอุดหนุนทั่วไป  \\\n32602             NaN      23947786.78         25780372.0   \n\n       เงินอุดหนุนเฉพาะกิจ  รายได้จากเงินอุดหนุน    รายได้รวม  data_year  \\\n32602                  NaN            25780372.0  50392524.32       2565   \n\n       ภาษีที่ดินและสิ่งปลูกสร้าง  \n32602                   288207.14  \n\n[1 rows x 43 columns]",
      "text/html": "<div>\n<style scoped>\n    .dataframe tbody tr th:only-of-type {\n        vertical-align: middle;\n    }\n\n    .dataframe tbody tr th {\n        vertical-align: top;\n    }\n\n    .dataframe thead th {\n        text-align: right;\n    }\n</style>\n<table border=\"1\" class=\"dataframe\">\n  <thead>\n    <tr style=\"text-align: right;\">\n      <th></th>\n      <th>ลำดับ</th>\n      <th>ชื่อท้องถิ่น</th>\n      <th>อำเภอ</th>\n      <th>จังหวัด</th>\n      <th>พื้นที่ (ตร.กม.)</th>\n      <th>ประชากร</th>\n      <th>ภาษีโรงเรือนและที่ดิน</th>\n      <th>ภาษีบำรุงท้องที่</th>\n      <th>ภาษีป้าย</th>\n      <th>อากรการฆ่าสัตว์</th>\n      <th>...</th>\n      <th>ค่าธรรมเนียมน้ำบาดาล</th>\n      <th>ค่าธรรมเนียมการจดทะเบียนสิทธิและนิติกรรมตามประมวลกฎหมายที่ดิน</th>\n      <th>ภาษีจัดสรรอื่น</th>\n      <th>รายได้รัฐจัดสรร</th>\n      <th>เงินอุดหนุนทั่วไป</th>\n      <th>เงินอุดหนุนเฉพาะกิจ</th>\n      <th>รายได้จากเงินอุดหนุน</th>\n      <th>รายได้รวม</th>\n      <th>data_year</th>\n      <th>ภาษีที่ดินและสิ่งปลูกสร้าง</th>\n    </tr>\n  </thead>\n  <tbody>\n    <tr>\n      <th>32602</th>\n      <td>7,850</td>\n      <td>อบต.หนองบก</td>\n      <td>เหล่าเสือโก้ก</td>\n      <td>อุบลราชธานี</td>\n      <td>50.0</td>\n      <td>7823.0</td>\n      <td>NaN</td>\n      <td>NaN</td>\n      <td>100360.0</td>\n      <td>NaN</td>\n      <td>...</td>\n      <td>4300.0</td>\n      <td>1521658.0</td>\n      <td>NaN</td>\n      <td>23947786.78</td>\n      <td>25780372.0</td>\n      <td>NaN</td>\n      <td>25780372.0</td>\n      <td>50392524.32</td>\n      <td>2565</td>\n      <td>288207.14</td>\n    </tr>\n  </tbody>\n</table>\n<p>1 rows × 43 columns</p>\n</div>"
     },
     "execution_count": 15,
     "metadata": {},
     "output_type": "execute_result"
    }
   ],
   "source": [
    "data_df = pd.read_csv(os.path.join(data_processed_dir, 'local_revenue_61to65_processed.csv'))\n",
    "data_df.tail(n=1)"
   ]
  },
  {
   "cell_type": "markdown",
   "id": "a8fc5f7bbe848a2",
   "metadata": {
    "collapsed": false
   },
   "source": [
    "There are only 1199 rows of data in 2563 while other years have 7850 - 7852 rows.\n",
    "It seems that data for 2563 is incomplete. Let's skip it."
   ]
  },
  {
   "cell_type": "code",
   "execution_count": 16,
   "id": "8799cd831549b1fd",
   "metadata": {
    "collapsed": false,
    "ExecuteTime": {
     "end_time": "2023-12-07T17:01:00.789431Z",
     "start_time": "2023-12-07T17:01:00.784049Z"
    }
   },
   "outputs": [],
   "source": [
    "selected_years = [2561, 2562, 2564, 2565]\n",
    "data_df = data_df[data_df['data_year'].isin(selected_years)]"
   ]
  },
  {
   "cell_type": "markdown",
   "id": "34489d3aa17dfab3",
   "metadata": {
    "collapsed": false
   },
   "source": [
    "### 1. รายได้รวมแต่ละปี"
   ]
  },
  {
   "cell_type": "code",
   "execution_count": 17,
   "id": "849c744066253e4",
   "metadata": {
    "collapsed": false,
    "ExecuteTime": {
     "end_time": "2023-12-07T17:01:00.821178Z",
     "start_time": "2023-12-07T17:01:00.791017Z"
    }
   },
   "outputs": [
    {
     "data": {
      "application/vnd.plotly.v1+json": {
       "data": [
        {
         "alignmentgroup": "True",
         "hovertemplate": "Year=%{x}<br>Total Revenue (THB)=%{y}<extra></extra>",
         "legendgroup": "",
         "marker": {
          "color": "#636efa",
          "pattern": {
           "shape": ""
          }
         },
         "name": "",
         "offsetgroup": "",
         "orientation": "v",
         "showlegend": false,
         "textposition": "auto",
         "x": [
          2561,
          2562,
          2564,
          2565
         ],
         "xaxis": "x",
         "y": [
          6.3657319763061E11,
          6.7142676181955E11,
          6.5807303205253E11,
          6.9636523965243E11
         ],
         "yaxis": "y",
         "type": "bar"
        }
       ],
       "layout": {
        "template": {
         "data": {
          "histogram2dcontour": [
           {
            "type": "histogram2dcontour",
            "colorbar": {
             "outlinewidth": 0,
             "ticks": ""
            },
            "colorscale": [
             [
              0.0,
              "#0d0887"
             ],
             [
              0.1111111111111111,
              "#46039f"
             ],
             [
              0.2222222222222222,
              "#7201a8"
             ],
             [
              0.3333333333333333,
              "#9c179e"
             ],
             [
              0.4444444444444444,
              "#bd3786"
             ],
             [
              0.5555555555555556,
              "#d8576b"
             ],
             [
              0.6666666666666666,
              "#ed7953"
             ],
             [
              0.7777777777777778,
              "#fb9f3a"
             ],
             [
              0.8888888888888888,
              "#fdca26"
             ],
             [
              1.0,
              "#f0f921"
             ]
            ]
           }
          ],
          "choropleth": [
           {
            "type": "choropleth",
            "colorbar": {
             "outlinewidth": 0,
             "ticks": ""
            }
           }
          ],
          "histogram2d": [
           {
            "type": "histogram2d",
            "colorbar": {
             "outlinewidth": 0,
             "ticks": ""
            },
            "colorscale": [
             [
              0.0,
              "#0d0887"
             ],
             [
              0.1111111111111111,
              "#46039f"
             ],
             [
              0.2222222222222222,
              "#7201a8"
             ],
             [
              0.3333333333333333,
              "#9c179e"
             ],
             [
              0.4444444444444444,
              "#bd3786"
             ],
             [
              0.5555555555555556,
              "#d8576b"
             ],
             [
              0.6666666666666666,
              "#ed7953"
             ],
             [
              0.7777777777777778,
              "#fb9f3a"
             ],
             [
              0.8888888888888888,
              "#fdca26"
             ],
             [
              1.0,
              "#f0f921"
             ]
            ]
           }
          ],
          "heatmap": [
           {
            "type": "heatmap",
            "colorbar": {
             "outlinewidth": 0,
             "ticks": ""
            },
            "colorscale": [
             [
              0.0,
              "#0d0887"
             ],
             [
              0.1111111111111111,
              "#46039f"
             ],
             [
              0.2222222222222222,
              "#7201a8"
             ],
             [
              0.3333333333333333,
              "#9c179e"
             ],
             [
              0.4444444444444444,
              "#bd3786"
             ],
             [
              0.5555555555555556,
              "#d8576b"
             ],
             [
              0.6666666666666666,
              "#ed7953"
             ],
             [
              0.7777777777777778,
              "#fb9f3a"
             ],
             [
              0.8888888888888888,
              "#fdca26"
             ],
             [
              1.0,
              "#f0f921"
             ]
            ]
           }
          ],
          "heatmapgl": [
           {
            "type": "heatmapgl",
            "colorbar": {
             "outlinewidth": 0,
             "ticks": ""
            },
            "colorscale": [
             [
              0.0,
              "#0d0887"
             ],
             [
              0.1111111111111111,
              "#46039f"
             ],
             [
              0.2222222222222222,
              "#7201a8"
             ],
             [
              0.3333333333333333,
              "#9c179e"
             ],
             [
              0.4444444444444444,
              "#bd3786"
             ],
             [
              0.5555555555555556,
              "#d8576b"
             ],
             [
              0.6666666666666666,
              "#ed7953"
             ],
             [
              0.7777777777777778,
              "#fb9f3a"
             ],
             [
              0.8888888888888888,
              "#fdca26"
             ],
             [
              1.0,
              "#f0f921"
             ]
            ]
           }
          ],
          "contourcarpet": [
           {
            "type": "contourcarpet",
            "colorbar": {
             "outlinewidth": 0,
             "ticks": ""
            }
           }
          ],
          "contour": [
           {
            "type": "contour",
            "colorbar": {
             "outlinewidth": 0,
             "ticks": ""
            },
            "colorscale": [
             [
              0.0,
              "#0d0887"
             ],
             [
              0.1111111111111111,
              "#46039f"
             ],
             [
              0.2222222222222222,
              "#7201a8"
             ],
             [
              0.3333333333333333,
              "#9c179e"
             ],
             [
              0.4444444444444444,
              "#bd3786"
             ],
             [
              0.5555555555555556,
              "#d8576b"
             ],
             [
              0.6666666666666666,
              "#ed7953"
             ],
             [
              0.7777777777777778,
              "#fb9f3a"
             ],
             [
              0.8888888888888888,
              "#fdca26"
             ],
             [
              1.0,
              "#f0f921"
             ]
            ]
           }
          ],
          "surface": [
           {
            "type": "surface",
            "colorbar": {
             "outlinewidth": 0,
             "ticks": ""
            },
            "colorscale": [
             [
              0.0,
              "#0d0887"
             ],
             [
              0.1111111111111111,
              "#46039f"
             ],
             [
              0.2222222222222222,
              "#7201a8"
             ],
             [
              0.3333333333333333,
              "#9c179e"
             ],
             [
              0.4444444444444444,
              "#bd3786"
             ],
             [
              0.5555555555555556,
              "#d8576b"
             ],
             [
              0.6666666666666666,
              "#ed7953"
             ],
             [
              0.7777777777777778,
              "#fb9f3a"
             ],
             [
              0.8888888888888888,
              "#fdca26"
             ],
             [
              1.0,
              "#f0f921"
             ]
            ]
           }
          ],
          "mesh3d": [
           {
            "type": "mesh3d",
            "colorbar": {
             "outlinewidth": 0,
             "ticks": ""
            }
           }
          ],
          "scatter": [
           {
            "marker": {
             "line": {
              "color": "#283442"
             }
            },
            "type": "scatter"
           }
          ],
          "parcoords": [
           {
            "type": "parcoords",
            "line": {
             "colorbar": {
              "outlinewidth": 0,
              "ticks": ""
             }
            }
           }
          ],
          "scatterpolargl": [
           {
            "type": "scatterpolargl",
            "marker": {
             "colorbar": {
              "outlinewidth": 0,
              "ticks": ""
             }
            }
           }
          ],
          "bar": [
           {
            "error_x": {
             "color": "#f2f5fa"
            },
            "error_y": {
             "color": "#f2f5fa"
            },
            "marker": {
             "line": {
              "color": "rgb(17,17,17)",
              "width": 0.5
             },
             "pattern": {
              "fillmode": "overlay",
              "size": 10,
              "solidity": 0.2
             }
            },
            "type": "bar"
           }
          ],
          "scattergeo": [
           {
            "type": "scattergeo",
            "marker": {
             "colorbar": {
              "outlinewidth": 0,
              "ticks": ""
             }
            }
           }
          ],
          "scatterpolar": [
           {
            "type": "scatterpolar",
            "marker": {
             "colorbar": {
              "outlinewidth": 0,
              "ticks": ""
             }
            }
           }
          ],
          "histogram": [
           {
            "marker": {
             "pattern": {
              "fillmode": "overlay",
              "size": 10,
              "solidity": 0.2
             }
            },
            "type": "histogram"
           }
          ],
          "scattergl": [
           {
            "marker": {
             "line": {
              "color": "#283442"
             }
            },
            "type": "scattergl"
           }
          ],
          "scatter3d": [
           {
            "type": "scatter3d",
            "line": {
             "colorbar": {
              "outlinewidth": 0,
              "ticks": ""
             }
            },
            "marker": {
             "colorbar": {
              "outlinewidth": 0,
              "ticks": ""
             }
            }
           }
          ],
          "scattermapbox": [
           {
            "type": "scattermapbox",
            "marker": {
             "colorbar": {
              "outlinewidth": 0,
              "ticks": ""
             }
            }
           }
          ],
          "scatterternary": [
           {
            "type": "scatterternary",
            "marker": {
             "colorbar": {
              "outlinewidth": 0,
              "ticks": ""
             }
            }
           }
          ],
          "scattercarpet": [
           {
            "type": "scattercarpet",
            "marker": {
             "colorbar": {
              "outlinewidth": 0,
              "ticks": ""
             }
            }
           }
          ],
          "carpet": [
           {
            "aaxis": {
             "endlinecolor": "#A2B1C6",
             "gridcolor": "#506784",
             "linecolor": "#506784",
             "minorgridcolor": "#506784",
             "startlinecolor": "#A2B1C6"
            },
            "baxis": {
             "endlinecolor": "#A2B1C6",
             "gridcolor": "#506784",
             "linecolor": "#506784",
             "minorgridcolor": "#506784",
             "startlinecolor": "#A2B1C6"
            },
            "type": "carpet"
           }
          ],
          "table": [
           {
            "cells": {
             "fill": {
              "color": "#506784"
             },
             "line": {
              "color": "rgb(17,17,17)"
             }
            },
            "header": {
             "fill": {
              "color": "#2a3f5f"
             },
             "line": {
              "color": "rgb(17,17,17)"
             }
            },
            "type": "table"
           }
          ],
          "barpolar": [
           {
            "marker": {
             "line": {
              "color": "rgb(17,17,17)",
              "width": 0.5
             },
             "pattern": {
              "fillmode": "overlay",
              "size": 10,
              "solidity": 0.2
             }
            },
            "type": "barpolar"
           }
          ],
          "pie": [
           {
            "automargin": true,
            "type": "pie"
           }
          ]
         },
         "layout": {
          "autotypenumbers": "strict",
          "colorway": [
           "#636efa",
           "#EF553B",
           "#00cc96",
           "#ab63fa",
           "#FFA15A",
           "#19d3f3",
           "#FF6692",
           "#B6E880",
           "#FF97FF",
           "#FECB52"
          ],
          "font": {
           "color": "#f2f5fa"
          },
          "hovermode": "closest",
          "hoverlabel": {
           "align": "left"
          },
          "paper_bgcolor": "rgb(17,17,17)",
          "plot_bgcolor": "rgb(17,17,17)",
          "polar": {
           "bgcolor": "rgb(17,17,17)",
           "angularaxis": {
            "gridcolor": "#506784",
            "linecolor": "#506784",
            "ticks": ""
           },
           "radialaxis": {
            "gridcolor": "#506784",
            "linecolor": "#506784",
            "ticks": ""
           }
          },
          "ternary": {
           "bgcolor": "rgb(17,17,17)",
           "aaxis": {
            "gridcolor": "#506784",
            "linecolor": "#506784",
            "ticks": ""
           },
           "baxis": {
            "gridcolor": "#506784",
            "linecolor": "#506784",
            "ticks": ""
           },
           "caxis": {
            "gridcolor": "#506784",
            "linecolor": "#506784",
            "ticks": ""
           }
          },
          "coloraxis": {
           "colorbar": {
            "outlinewidth": 0,
            "ticks": ""
           }
          },
          "colorscale": {
           "sequential": [
            [
             0.0,
             "#0d0887"
            ],
            [
             0.1111111111111111,
             "#46039f"
            ],
            [
             0.2222222222222222,
             "#7201a8"
            ],
            [
             0.3333333333333333,
             "#9c179e"
            ],
            [
             0.4444444444444444,
             "#bd3786"
            ],
            [
             0.5555555555555556,
             "#d8576b"
            ],
            [
             0.6666666666666666,
             "#ed7953"
            ],
            [
             0.7777777777777778,
             "#fb9f3a"
            ],
            [
             0.8888888888888888,
             "#fdca26"
            ],
            [
             1.0,
             "#f0f921"
            ]
           ],
           "sequentialminus": [
            [
             0.0,
             "#0d0887"
            ],
            [
             0.1111111111111111,
             "#46039f"
            ],
            [
             0.2222222222222222,
             "#7201a8"
            ],
            [
             0.3333333333333333,
             "#9c179e"
            ],
            [
             0.4444444444444444,
             "#bd3786"
            ],
            [
             0.5555555555555556,
             "#d8576b"
            ],
            [
             0.6666666666666666,
             "#ed7953"
            ],
            [
             0.7777777777777778,
             "#fb9f3a"
            ],
            [
             0.8888888888888888,
             "#fdca26"
            ],
            [
             1.0,
             "#f0f921"
            ]
           ],
           "diverging": [
            [
             0,
             "#8e0152"
            ],
            [
             0.1,
             "#c51b7d"
            ],
            [
             0.2,
             "#de77ae"
            ],
            [
             0.3,
             "#f1b6da"
            ],
            [
             0.4,
             "#fde0ef"
            ],
            [
             0.5,
             "#f7f7f7"
            ],
            [
             0.6,
             "#e6f5d0"
            ],
            [
             0.7,
             "#b8e186"
            ],
            [
             0.8,
             "#7fbc41"
            ],
            [
             0.9,
             "#4d9221"
            ],
            [
             1,
             "#276419"
            ]
           ]
          },
          "xaxis": {
           "gridcolor": "#283442",
           "linecolor": "#506784",
           "ticks": "",
           "title": {
            "standoff": 15
           },
           "zerolinecolor": "#283442",
           "automargin": true,
           "zerolinewidth": 2
          },
          "yaxis": {
           "gridcolor": "#283442",
           "linecolor": "#506784",
           "ticks": "",
           "title": {
            "standoff": 15
           },
           "zerolinecolor": "#283442",
           "automargin": true,
           "zerolinewidth": 2
          },
          "scene": {
           "xaxis": {
            "backgroundcolor": "rgb(17,17,17)",
            "gridcolor": "#506784",
            "linecolor": "#506784",
            "showbackground": true,
            "ticks": "",
            "zerolinecolor": "#C8D4E3",
            "gridwidth": 2
           },
           "yaxis": {
            "backgroundcolor": "rgb(17,17,17)",
            "gridcolor": "#506784",
            "linecolor": "#506784",
            "showbackground": true,
            "ticks": "",
            "zerolinecolor": "#C8D4E3",
            "gridwidth": 2
           },
           "zaxis": {
            "backgroundcolor": "rgb(17,17,17)",
            "gridcolor": "#506784",
            "linecolor": "#506784",
            "showbackground": true,
            "ticks": "",
            "zerolinecolor": "#C8D4E3",
            "gridwidth": 2
           }
          },
          "shapedefaults": {
           "line": {
            "color": "#f2f5fa"
           }
          },
          "annotationdefaults": {
           "arrowcolor": "#f2f5fa",
           "arrowhead": 0,
           "arrowwidth": 1
          },
          "geo": {
           "bgcolor": "rgb(17,17,17)",
           "landcolor": "rgb(17,17,17)",
           "subunitcolor": "#506784",
           "showland": true,
           "showlakes": true,
           "lakecolor": "rgb(17,17,17)"
          },
          "title": {
           "x": 0.05
          },
          "updatemenudefaults": {
           "bgcolor": "#506784",
           "borderwidth": 0
          },
          "sliderdefaults": {
           "bgcolor": "#C8D4E3",
           "borderwidth": 1,
           "bordercolor": "rgb(17,17,17)",
           "tickwidth": 0
          },
          "mapbox": {
           "style": "dark"
          }
         }
        },
        "xaxis": {
         "anchor": "y",
         "domain": [
          0.0,
          1.0
         ],
         "title": {
          "text": "Year"
         }
        },
        "yaxis": {
         "anchor": "x",
         "domain": [
          0.0,
          1.0
         ],
         "title": {
          "text": "Total Revenue (THB)"
         },
         "tickformat": ".0f",
         "tickvals": [
          100000000000,
          200000000000,
          300000000000,
          400000000000,
          500000000000,
          600000000000,
          700000000000
         ],
         "ticktext": [
          "100,000 M",
          "200,000 M",
          "300,000 M",
          "400,000 M",
          "500,000 M",
          "600,000 M",
          "700,000 M"
         ]
        },
        "legend": {
         "tracegroupgap": 0
        },
        "title": {
         "text": "Trend of Total Revenue Over Years (in Millions)"
        },
        "barmode": "relative"
       },
       "config": {
        "plotlyServerURL": "https://plot.ly"
       }
      },
      "text/html": "<div>                            <div id=\"01467a86-1cc9-4b74-a1da-a9f99111de45\" class=\"plotly-graph-div\" style=\"height:525px; width:100%;\"></div>            <script type=\"text/javascript\">                require([\"plotly\"], function(Plotly) {                    window.PLOTLYENV=window.PLOTLYENV || {};                                    if (document.getElementById(\"01467a86-1cc9-4b74-a1da-a9f99111de45\")) {                    Plotly.newPlot(                        \"01467a86-1cc9-4b74-a1da-a9f99111de45\",                        [{\"alignmentgroup\":\"True\",\"hovertemplate\":\"Year=%{x}\\u003cbr\\u003eTotal Revenue (THB)=%{y}\\u003cextra\\u003e\\u003c\\u002fextra\\u003e\",\"legendgroup\":\"\",\"marker\":{\"color\":\"#636efa\",\"pattern\":{\"shape\":\"\"}},\"name\":\"\",\"offsetgroup\":\"\",\"orientation\":\"v\",\"showlegend\":false,\"textposition\":\"auto\",\"x\":[2561,2562,2564,2565],\"xaxis\":\"x\",\"y\":[636573197630.61,671426761819.55,658073032052.53,696365239652.43],\"yaxis\":\"y\",\"type\":\"bar\"}],                        {\"template\":{\"data\":{\"histogram2dcontour\":[{\"type\":\"histogram2dcontour\",\"colorbar\":{\"outlinewidth\":0,\"ticks\":\"\"},\"colorscale\":[[0.0,\"#0d0887\"],[0.1111111111111111,\"#46039f\"],[0.2222222222222222,\"#7201a8\"],[0.3333333333333333,\"#9c179e\"],[0.4444444444444444,\"#bd3786\"],[0.5555555555555556,\"#d8576b\"],[0.6666666666666666,\"#ed7953\"],[0.7777777777777778,\"#fb9f3a\"],[0.8888888888888888,\"#fdca26\"],[1.0,\"#f0f921\"]]}],\"choropleth\":[{\"type\":\"choropleth\",\"colorbar\":{\"outlinewidth\":0,\"ticks\":\"\"}}],\"histogram2d\":[{\"type\":\"histogram2d\",\"colorbar\":{\"outlinewidth\":0,\"ticks\":\"\"},\"colorscale\":[[0.0,\"#0d0887\"],[0.1111111111111111,\"#46039f\"],[0.2222222222222222,\"#7201a8\"],[0.3333333333333333,\"#9c179e\"],[0.4444444444444444,\"#bd3786\"],[0.5555555555555556,\"#d8576b\"],[0.6666666666666666,\"#ed7953\"],[0.7777777777777778,\"#fb9f3a\"],[0.8888888888888888,\"#fdca26\"],[1.0,\"#f0f921\"]]}],\"heatmap\":[{\"type\":\"heatmap\",\"colorbar\":{\"outlinewidth\":0,\"ticks\":\"\"},\"colorscale\":[[0.0,\"#0d0887\"],[0.1111111111111111,\"#46039f\"],[0.2222222222222222,\"#7201a8\"],[0.3333333333333333,\"#9c179e\"],[0.4444444444444444,\"#bd3786\"],[0.5555555555555556,\"#d8576b\"],[0.6666666666666666,\"#ed7953\"],[0.7777777777777778,\"#fb9f3a\"],[0.8888888888888888,\"#fdca26\"],[1.0,\"#f0f921\"]]}],\"heatmapgl\":[{\"type\":\"heatmapgl\",\"colorbar\":{\"outlinewidth\":0,\"ticks\":\"\"},\"colorscale\":[[0.0,\"#0d0887\"],[0.1111111111111111,\"#46039f\"],[0.2222222222222222,\"#7201a8\"],[0.3333333333333333,\"#9c179e\"],[0.4444444444444444,\"#bd3786\"],[0.5555555555555556,\"#d8576b\"],[0.6666666666666666,\"#ed7953\"],[0.7777777777777778,\"#fb9f3a\"],[0.8888888888888888,\"#fdca26\"],[1.0,\"#f0f921\"]]}],\"contourcarpet\":[{\"type\":\"contourcarpet\",\"colorbar\":{\"outlinewidth\":0,\"ticks\":\"\"}}],\"contour\":[{\"type\":\"contour\",\"colorbar\":{\"outlinewidth\":0,\"ticks\":\"\"},\"colorscale\":[[0.0,\"#0d0887\"],[0.1111111111111111,\"#46039f\"],[0.2222222222222222,\"#7201a8\"],[0.3333333333333333,\"#9c179e\"],[0.4444444444444444,\"#bd3786\"],[0.5555555555555556,\"#d8576b\"],[0.6666666666666666,\"#ed7953\"],[0.7777777777777778,\"#fb9f3a\"],[0.8888888888888888,\"#fdca26\"],[1.0,\"#f0f921\"]]}],\"surface\":[{\"type\":\"surface\",\"colorbar\":{\"outlinewidth\":0,\"ticks\":\"\"},\"colorscale\":[[0.0,\"#0d0887\"],[0.1111111111111111,\"#46039f\"],[0.2222222222222222,\"#7201a8\"],[0.3333333333333333,\"#9c179e\"],[0.4444444444444444,\"#bd3786\"],[0.5555555555555556,\"#d8576b\"],[0.6666666666666666,\"#ed7953\"],[0.7777777777777778,\"#fb9f3a\"],[0.8888888888888888,\"#fdca26\"],[1.0,\"#f0f921\"]]}],\"mesh3d\":[{\"type\":\"mesh3d\",\"colorbar\":{\"outlinewidth\":0,\"ticks\":\"\"}}],\"scatter\":[{\"marker\":{\"line\":{\"color\":\"#283442\"}},\"type\":\"scatter\"}],\"parcoords\":[{\"type\":\"parcoords\",\"line\":{\"colorbar\":{\"outlinewidth\":0,\"ticks\":\"\"}}}],\"scatterpolargl\":[{\"type\":\"scatterpolargl\",\"marker\":{\"colorbar\":{\"outlinewidth\":0,\"ticks\":\"\"}}}],\"bar\":[{\"error_x\":{\"color\":\"#f2f5fa\"},\"error_y\":{\"color\":\"#f2f5fa\"},\"marker\":{\"line\":{\"color\":\"rgb(17,17,17)\",\"width\":0.5},\"pattern\":{\"fillmode\":\"overlay\",\"size\":10,\"solidity\":0.2}},\"type\":\"bar\"}],\"scattergeo\":[{\"type\":\"scattergeo\",\"marker\":{\"colorbar\":{\"outlinewidth\":0,\"ticks\":\"\"}}}],\"scatterpolar\":[{\"type\":\"scatterpolar\",\"marker\":{\"colorbar\":{\"outlinewidth\":0,\"ticks\":\"\"}}}],\"histogram\":[{\"marker\":{\"pattern\":{\"fillmode\":\"overlay\",\"size\":10,\"solidity\":0.2}},\"type\":\"histogram\"}],\"scattergl\":[{\"marker\":{\"line\":{\"color\":\"#283442\"}},\"type\":\"scattergl\"}],\"scatter3d\":[{\"type\":\"scatter3d\",\"line\":{\"colorbar\":{\"outlinewidth\":0,\"ticks\":\"\"}},\"marker\":{\"colorbar\":{\"outlinewidth\":0,\"ticks\":\"\"}}}],\"scattermapbox\":[{\"type\":\"scattermapbox\",\"marker\":{\"colorbar\":{\"outlinewidth\":0,\"ticks\":\"\"}}}],\"scatterternary\":[{\"type\":\"scatterternary\",\"marker\":{\"colorbar\":{\"outlinewidth\":0,\"ticks\":\"\"}}}],\"scattercarpet\":[{\"type\":\"scattercarpet\",\"marker\":{\"colorbar\":{\"outlinewidth\":0,\"ticks\":\"\"}}}],\"carpet\":[{\"aaxis\":{\"endlinecolor\":\"#A2B1C6\",\"gridcolor\":\"#506784\",\"linecolor\":\"#506784\",\"minorgridcolor\":\"#506784\",\"startlinecolor\":\"#A2B1C6\"},\"baxis\":{\"endlinecolor\":\"#A2B1C6\",\"gridcolor\":\"#506784\",\"linecolor\":\"#506784\",\"minorgridcolor\":\"#506784\",\"startlinecolor\":\"#A2B1C6\"},\"type\":\"carpet\"}],\"table\":[{\"cells\":{\"fill\":{\"color\":\"#506784\"},\"line\":{\"color\":\"rgb(17,17,17)\"}},\"header\":{\"fill\":{\"color\":\"#2a3f5f\"},\"line\":{\"color\":\"rgb(17,17,17)\"}},\"type\":\"table\"}],\"barpolar\":[{\"marker\":{\"line\":{\"color\":\"rgb(17,17,17)\",\"width\":0.5},\"pattern\":{\"fillmode\":\"overlay\",\"size\":10,\"solidity\":0.2}},\"type\":\"barpolar\"}],\"pie\":[{\"automargin\":true,\"type\":\"pie\"}]},\"layout\":{\"autotypenumbers\":\"strict\",\"colorway\":[\"#636efa\",\"#EF553B\",\"#00cc96\",\"#ab63fa\",\"#FFA15A\",\"#19d3f3\",\"#FF6692\",\"#B6E880\",\"#FF97FF\",\"#FECB52\"],\"font\":{\"color\":\"#f2f5fa\"},\"hovermode\":\"closest\",\"hoverlabel\":{\"align\":\"left\"},\"paper_bgcolor\":\"rgb(17,17,17)\",\"plot_bgcolor\":\"rgb(17,17,17)\",\"polar\":{\"bgcolor\":\"rgb(17,17,17)\",\"angularaxis\":{\"gridcolor\":\"#506784\",\"linecolor\":\"#506784\",\"ticks\":\"\"},\"radialaxis\":{\"gridcolor\":\"#506784\",\"linecolor\":\"#506784\",\"ticks\":\"\"}},\"ternary\":{\"bgcolor\":\"rgb(17,17,17)\",\"aaxis\":{\"gridcolor\":\"#506784\",\"linecolor\":\"#506784\",\"ticks\":\"\"},\"baxis\":{\"gridcolor\":\"#506784\",\"linecolor\":\"#506784\",\"ticks\":\"\"},\"caxis\":{\"gridcolor\":\"#506784\",\"linecolor\":\"#506784\",\"ticks\":\"\"}},\"coloraxis\":{\"colorbar\":{\"outlinewidth\":0,\"ticks\":\"\"}},\"colorscale\":{\"sequential\":[[0.0,\"#0d0887\"],[0.1111111111111111,\"#46039f\"],[0.2222222222222222,\"#7201a8\"],[0.3333333333333333,\"#9c179e\"],[0.4444444444444444,\"#bd3786\"],[0.5555555555555556,\"#d8576b\"],[0.6666666666666666,\"#ed7953\"],[0.7777777777777778,\"#fb9f3a\"],[0.8888888888888888,\"#fdca26\"],[1.0,\"#f0f921\"]],\"sequentialminus\":[[0.0,\"#0d0887\"],[0.1111111111111111,\"#46039f\"],[0.2222222222222222,\"#7201a8\"],[0.3333333333333333,\"#9c179e\"],[0.4444444444444444,\"#bd3786\"],[0.5555555555555556,\"#d8576b\"],[0.6666666666666666,\"#ed7953\"],[0.7777777777777778,\"#fb9f3a\"],[0.8888888888888888,\"#fdca26\"],[1.0,\"#f0f921\"]],\"diverging\":[[0,\"#8e0152\"],[0.1,\"#c51b7d\"],[0.2,\"#de77ae\"],[0.3,\"#f1b6da\"],[0.4,\"#fde0ef\"],[0.5,\"#f7f7f7\"],[0.6,\"#e6f5d0\"],[0.7,\"#b8e186\"],[0.8,\"#7fbc41\"],[0.9,\"#4d9221\"],[1,\"#276419\"]]},\"xaxis\":{\"gridcolor\":\"#283442\",\"linecolor\":\"#506784\",\"ticks\":\"\",\"title\":{\"standoff\":15},\"zerolinecolor\":\"#283442\",\"automargin\":true,\"zerolinewidth\":2},\"yaxis\":{\"gridcolor\":\"#283442\",\"linecolor\":\"#506784\",\"ticks\":\"\",\"title\":{\"standoff\":15},\"zerolinecolor\":\"#283442\",\"automargin\":true,\"zerolinewidth\":2},\"scene\":{\"xaxis\":{\"backgroundcolor\":\"rgb(17,17,17)\",\"gridcolor\":\"#506784\",\"linecolor\":\"#506784\",\"showbackground\":true,\"ticks\":\"\",\"zerolinecolor\":\"#C8D4E3\",\"gridwidth\":2},\"yaxis\":{\"backgroundcolor\":\"rgb(17,17,17)\",\"gridcolor\":\"#506784\",\"linecolor\":\"#506784\",\"showbackground\":true,\"ticks\":\"\",\"zerolinecolor\":\"#C8D4E3\",\"gridwidth\":2},\"zaxis\":{\"backgroundcolor\":\"rgb(17,17,17)\",\"gridcolor\":\"#506784\",\"linecolor\":\"#506784\",\"showbackground\":true,\"ticks\":\"\",\"zerolinecolor\":\"#C8D4E3\",\"gridwidth\":2}},\"shapedefaults\":{\"line\":{\"color\":\"#f2f5fa\"}},\"annotationdefaults\":{\"arrowcolor\":\"#f2f5fa\",\"arrowhead\":0,\"arrowwidth\":1},\"geo\":{\"bgcolor\":\"rgb(17,17,17)\",\"landcolor\":\"rgb(17,17,17)\",\"subunitcolor\":\"#506784\",\"showland\":true,\"showlakes\":true,\"lakecolor\":\"rgb(17,17,17)\"},\"title\":{\"x\":0.05},\"updatemenudefaults\":{\"bgcolor\":\"#506784\",\"borderwidth\":0},\"sliderdefaults\":{\"bgcolor\":\"#C8D4E3\",\"borderwidth\":1,\"bordercolor\":\"rgb(17,17,17)\",\"tickwidth\":0},\"mapbox\":{\"style\":\"dark\"}}},\"xaxis\":{\"anchor\":\"y\",\"domain\":[0.0,1.0],\"title\":{\"text\":\"Year\"}},\"yaxis\":{\"anchor\":\"x\",\"domain\":[0.0,1.0],\"title\":{\"text\":\"Total Revenue (THB)\"},\"tickformat\":\".0f\",\"tickvals\":[100000000000,200000000000,300000000000,400000000000,500000000000,600000000000,700000000000],\"ticktext\":[\"100,000 M\",\"200,000 M\",\"300,000 M\",\"400,000 M\",\"500,000 M\",\"600,000 M\",\"700,000 M\"]},\"legend\":{\"tracegroupgap\":0},\"title\":{\"text\":\"Trend of Total Revenue Over Years (in Millions)\"},\"barmode\":\"relative\"},                        {\"responsive\": true}                    ).then(function(){\n                            \nvar gd = document.getElementById('01467a86-1cc9-4b74-a1da-a9f99111de45');\nvar x = new MutationObserver(function (mutations, observer) {{\n        var display = window.getComputedStyle(gd).display;\n        if (!display || display === 'none') {{\n            console.log([gd, 'removed!']);\n            Plotly.purge(gd);\n            observer.disconnect();\n        }}\n}});\n\n// Listen for the removal of the full notebook cells\nvar notebookContainer = gd.closest('#notebook-container');\nif (notebookContainer) {{\n    x.observe(notebookContainer, {childList: true});\n}}\n\n// Listen for the clearing of the current output cell\nvar outputEl = gd.closest('.output');\nif (outputEl) {{\n    x.observe(outputEl, {childList: true});\n}}\n\n                        })                };                });            </script>        </div>"
     },
     "metadata": {},
     "output_type": "display_data"
    }
   ],
   "source": [
    "year_column = 'data_year' \n",
    "total_revenue_column = 'รายได้รวม' \n",
    "\n",
    "yearly_revenue = data_df.groupby(year_column)[total_revenue_column].sum().reset_index()\n",
    "\n",
    "fig = px.bar(yearly_revenue, x='data_year', y='รายได้รวม',\n",
    "             labels={'รายได้รวม': 'Total Revenue (THB)', 'data_year': 'Year'},\n",
    "             title='Trend of Total Revenue Over Years (in Millions)')\n",
    "\n",
    "# Updating y-axis format to display in millions with 'M' suffix\n",
    "fig.update_yaxes(tickformat=\".0f\", tickvals=[100000000000, 200000000000, 300000000000, 400000000000, 500000000000, 600000000000, 700000000000],\n",
    "                 ticktext=[\"100,000 M\", \"200,000 M\", \"300,000 M\", \"400,000 M\", \"500,000 M\", \"600,000 M\", \"700,000 M\"])\n",
    "\n",
    "# Show the figure\n",
    "fig.show()"
   ]
  },
  {
   "cell_type": "code",
   "execution_count": 18,
   "id": "initial_id",
   "metadata": {
    "collapsed": true,
    "jupyter": {
     "outputs_hidden": true
    },
    "ExecuteTime": {
     "end_time": "2023-12-07T17:01:00.903213Z",
     "start_time": "2023-12-07T17:01:00.812223Z"
    }
   },
   "outputs": [
    {
     "data": {
      "text/plain": "   data_year รายได้รวม\n3       2565  696365 M\n1       2562  671426 M\n2       2564  658073 M\n0       2561  636573 M",
      "text/html": "<div>\n<style scoped>\n    .dataframe tbody tr th:only-of-type {\n        vertical-align: middle;\n    }\n\n    .dataframe tbody tr th {\n        vertical-align: top;\n    }\n\n    .dataframe thead th {\n        text-align: right;\n    }\n</style>\n<table border=\"1\" class=\"dataframe\">\n  <thead>\n    <tr style=\"text-align: right;\">\n      <th></th>\n      <th>data_year</th>\n      <th>รายได้รวม</th>\n    </tr>\n  </thead>\n  <tbody>\n    <tr>\n      <th>3</th>\n      <td>2565</td>\n      <td>696365 M</td>\n    </tr>\n    <tr>\n      <th>1</th>\n      <td>2562</td>\n      <td>671426 M</td>\n    </tr>\n    <tr>\n      <th>2</th>\n      <td>2564</td>\n      <td>658073 M</td>\n    </tr>\n    <tr>\n      <th>0</th>\n      <td>2561</td>\n      <td>636573 M</td>\n    </tr>\n  </tbody>\n</table>\n</div>"
     },
     "execution_count": 18,
     "metadata": {},
     "output_type": "execute_result"
    }
   ],
   "source": [
    "temp_yearly_rev = yearly_revenue.copy()\n",
    "temp_yearly_rev['รายได้รวม'] = temp_yearly_rev['รายได้รวม'].apply(lambda x: f'{int(x/1000000)} M')\n",
    "temp_yearly_rev.sort_values(by='รายได้รวม', ascending=False)"
   ]
  },
  {
   "cell_type": "markdown",
   "id": "4797f922537c5511",
   "metadata": {
    "collapsed": false
   },
   "source": [
    "The local revenue in Thailand showed an overall increase from 2561 to 2565, with a temporary dip in 2564. The revenue grew from 636,573 million THB in 2561 to 696,365 million THB in 2565, indicating positive growth despite the brief decline in 2564."
   ]
  },
  {
   "cell_type": "markdown",
   "id": "2887910c414da1d6",
   "metadata": {
    "collapsed": false
   },
   "source": [
    "### 2. ภาษีแต่ละปี"
   ]
  },
  {
   "cell_type": "code",
   "execution_count": 19,
   "id": "98f4a0decc4f0236",
   "metadata": {
    "collapsed": false,
    "ExecuteTime": {
     "end_time": "2023-12-07T17:01:00.903887Z",
     "start_time": "2023-12-07T17:01:00.815810Z"
    }
   },
   "outputs": [
    {
     "data": {
      "text/plain": "['ภาษีโรงเรือนและที่ดิน',\n 'ภาษีบำรุงท้องที่',\n 'ภาษีป้าย',\n 'ภาษีบำรุง อบจ. จากสถานค้าปลีกยาสูบ',\n 'ภาษีบำรุงจากสถานค้าปลีกน้ำมัน',\n 'ภาษีและค่าธรรมเนียมรถยนต์หรือล้อเลื่อน',\n 'ภาษีมูลค่าเพิ่มที่จัดเก็บตามประมวลรัษฎากร 5%(อบจ)',\n 'ภาษีมูลค่าเพิ่มตามกฎหมายท้องถิ่น',\n 'ภาษีมูลค่าเพิ่มตาม พ.ร.บ. กำหนดแผนฯ',\n 'ภาษีธุรกิจเฉพาะ',\n 'ภาษีสรรพสามิต',\n 'ภาษีการพนัน',\n 'ภาษียาสูบ',\n 'ภาษีจัดสรรอื่น',\n 'ภาษีที่ดินและสิ่งปลูกสร้าง']"
     },
     "execution_count": 19,
     "metadata": {},
     "output_type": "execute_result"
    }
   ],
   "source": [
    "#col with ภาษี\n",
    "tax_columns = [col for col in data_df.columns if 'ภาษี' in col and col != 'ภาษีสุรา']\n",
    "tax_columns"
   ]
  },
  {
   "cell_type": "code",
   "execution_count": 20,
   "id": "e664ec6f12d294fc",
   "metadata": {
    "collapsed": false,
    "ExecuteTime": {
     "end_time": "2023-12-07T17:01:00.925515Z",
     "start_time": "2023-12-07T17:01:00.820285Z"
    }
   },
   "outputs": [
    {
     "data": {
      "text/plain": "           ภาษีโรงเรือนและที่ดิน  ภาษีบำรุงท้องที่      ภาษีป้าย  \\\ndata_year                                                          \n2561                3.338509e+10      9.392583e+08  3.424266e+09   \n2562                3.555931e+10      9.680514e+08  3.609563e+09   \n2564                8.587179e+08      7.975260e+07  4.441548e+09   \n2565                8.970875e+08      3.040190e+07  4.550797e+09   \n\n           ภาษีบำรุง อบจ. จากสถานค้าปลีกยาสูบ  ภาษีบำรุงจากสถานค้าปลีกน้ำมัน  \\\ndata_year                                                                      \n2561                             2.326037e+09                   1.045866e+09   \n2562                             2.544459e+09                   1.075313e+09   \n2564                             2.368058e+09                   1.020515e+09   \n2565                             1.974212e+09                   1.057750e+09   \n\n           ภาษีและค่าธรรมเนียมรถยนต์หรือล้อเลื่อน  \\\ndata_year                                           \n2561                                 3.736208e+10   \n2562                                 3.751251e+10   \n2564                                 3.799507e+10   \n2565                                 3.902083e+10   \n\n           ภาษีมูลค่าเพิ่มที่จัดเก็บตามประมวลรัษฎากร 5%(อบจ)  \\\ndata_year                                                      \n2561                                            1.319434e+10   \n2562                                            1.420852e+10   \n2564                                            1.288850e+10   \n2565                                            1.501519e+10   \n\n           ภาษีมูลค่าเพิ่มตามกฎหมายท้องถิ่น  \\\ndata_year                                     \n2561                           6.153644e+10   \n2562                           5.557129e+10   \n2564                           6.034384e+10   \n2565                           7.254930e+10   \n\n           ภาษีมูลค่าเพิ่มตาม พ.ร.บ. กำหนดแผนฯ  ภาษีธุรกิจเฉพาะ  \\\ndata_year                                                         \n2561                              1.123217e+11     5.936046e+09   \n2562                              1.142868e+11     6.118598e+09   \n2564                              1.110617e+11     5.366594e+09   \n2565                              1.272110e+11     5.766956e+09   \n\n           ภาษีสรรพสามิต  ภาษีการพนัน  ภาษียาสูบ  ภาษีจัดสรรอื่น  \\\ndata_year                                                          \n2561        5.268305e+10  48197157.98  213697.03    1.139799e+08   \n2562        5.726606e+10  23981376.76  197118.08    2.964618e+08   \n2564        5.279930e+10     73271.68  173140.13    1.579494e+08   \n2565        4.824880e+10    103288.25     261.90    1.248215e+08   \n\n           ภาษีที่ดินและสิ่งปลูกสร้าง  \ndata_year                              \n2561                     0.000000e+00  \n2562                     0.000000e+00  \n2564                     4.105412e+09  \n2565                     3.518694e+10  ",
      "text/html": "<div>\n<style scoped>\n    .dataframe tbody tr th:only-of-type {\n        vertical-align: middle;\n    }\n\n    .dataframe tbody tr th {\n        vertical-align: top;\n    }\n\n    .dataframe thead th {\n        text-align: right;\n    }\n</style>\n<table border=\"1\" class=\"dataframe\">\n  <thead>\n    <tr style=\"text-align: right;\">\n      <th></th>\n      <th>ภาษีโรงเรือนและที่ดิน</th>\n      <th>ภาษีบำรุงท้องที่</th>\n      <th>ภาษีป้าย</th>\n      <th>ภาษีบำรุง อบจ. จากสถานค้าปลีกยาสูบ</th>\n      <th>ภาษีบำรุงจากสถานค้าปลีกน้ำมัน</th>\n      <th>ภาษีและค่าธรรมเนียมรถยนต์หรือล้อเลื่อน</th>\n      <th>ภาษีมูลค่าเพิ่มที่จัดเก็บตามประมวลรัษฎากร 5%(อบจ)</th>\n      <th>ภาษีมูลค่าเพิ่มตามกฎหมายท้องถิ่น</th>\n      <th>ภาษีมูลค่าเพิ่มตาม พ.ร.บ. กำหนดแผนฯ</th>\n      <th>ภาษีธุรกิจเฉพาะ</th>\n      <th>ภาษีสรรพสามิต</th>\n      <th>ภาษีการพนัน</th>\n      <th>ภาษียาสูบ</th>\n      <th>ภาษีจัดสรรอื่น</th>\n      <th>ภาษีที่ดินและสิ่งปลูกสร้าง</th>\n    </tr>\n    <tr>\n      <th>data_year</th>\n      <th></th>\n      <th></th>\n      <th></th>\n      <th></th>\n      <th></th>\n      <th></th>\n      <th></th>\n      <th></th>\n      <th></th>\n      <th></th>\n      <th></th>\n      <th></th>\n      <th></th>\n      <th></th>\n      <th></th>\n    </tr>\n  </thead>\n  <tbody>\n    <tr>\n      <th>2561</th>\n      <td>3.338509e+10</td>\n      <td>9.392583e+08</td>\n      <td>3.424266e+09</td>\n      <td>2.326037e+09</td>\n      <td>1.045866e+09</td>\n      <td>3.736208e+10</td>\n      <td>1.319434e+10</td>\n      <td>6.153644e+10</td>\n      <td>1.123217e+11</td>\n      <td>5.936046e+09</td>\n      <td>5.268305e+10</td>\n      <td>48197157.98</td>\n      <td>213697.03</td>\n      <td>1.139799e+08</td>\n      <td>0.000000e+00</td>\n    </tr>\n    <tr>\n      <th>2562</th>\n      <td>3.555931e+10</td>\n      <td>9.680514e+08</td>\n      <td>3.609563e+09</td>\n      <td>2.544459e+09</td>\n      <td>1.075313e+09</td>\n      <td>3.751251e+10</td>\n      <td>1.420852e+10</td>\n      <td>5.557129e+10</td>\n      <td>1.142868e+11</td>\n      <td>6.118598e+09</td>\n      <td>5.726606e+10</td>\n      <td>23981376.76</td>\n      <td>197118.08</td>\n      <td>2.964618e+08</td>\n      <td>0.000000e+00</td>\n    </tr>\n    <tr>\n      <th>2564</th>\n      <td>8.587179e+08</td>\n      <td>7.975260e+07</td>\n      <td>4.441548e+09</td>\n      <td>2.368058e+09</td>\n      <td>1.020515e+09</td>\n      <td>3.799507e+10</td>\n      <td>1.288850e+10</td>\n      <td>6.034384e+10</td>\n      <td>1.110617e+11</td>\n      <td>5.366594e+09</td>\n      <td>5.279930e+10</td>\n      <td>73271.68</td>\n      <td>173140.13</td>\n      <td>1.579494e+08</td>\n      <td>4.105412e+09</td>\n    </tr>\n    <tr>\n      <th>2565</th>\n      <td>8.970875e+08</td>\n      <td>3.040190e+07</td>\n      <td>4.550797e+09</td>\n      <td>1.974212e+09</td>\n      <td>1.057750e+09</td>\n      <td>3.902083e+10</td>\n      <td>1.501519e+10</td>\n      <td>7.254930e+10</td>\n      <td>1.272110e+11</td>\n      <td>5.766956e+09</td>\n      <td>4.824880e+10</td>\n      <td>103288.25</td>\n      <td>261.90</td>\n      <td>1.248215e+08</td>\n      <td>3.518694e+10</td>\n    </tr>\n  </tbody>\n</table>\n</div>"
     },
     "execution_count": 20,
     "metadata": {},
     "output_type": "execute_result"
    }
   ],
   "source": [
    "year_wise_tax_trends = data_df.groupby('data_year')[tax_columns].sum()\n",
    "year_wise_tax_trends"
   ]
  },
  {
   "cell_type": "markdown",
   "id": "811ad94d9fa7384",
   "metadata": {
    "collapsed": false
   },
   "source": []
  },
  {
   "cell_type": "code",
   "execution_count": 21,
   "id": "c223faf55deb2eca",
   "metadata": {
    "collapsed": false,
    "ExecuteTime": {
     "end_time": "2023-12-07T17:01:00.966114Z",
     "start_time": "2023-12-07T17:01:00.835259Z"
    }
   },
   "outputs": [
    {
     "data": {
      "text/plain": "Index(['ภาษีโรงเรือนและที่ดิน', 'ภาษีบำรุงท้องที่', 'ภาษีป้าย',\n       'ภาษีบำรุง อบจ. จากสถานค้าปลีกยาสูบ', 'ภาษีบำรุงจากสถานค้าปลีกน้ำมัน',\n       'ภาษีและค่าธรรมเนียมรถยนต์หรือล้อเลื่อน',\n       'ภาษีมูลค่าเพิ่มที่จัดเก็บตามประมวลรัษฎากร 5%(อบจ)',\n       'ภาษีมูลค่าเพิ่มตามกฎหมายท้องถิ่น',\n       'ภาษีมูลค่าเพิ่มตาม พ.ร.บ. กำหนดแผนฯ', 'ภาษีธุรกิจเฉพาะ',\n       'ภาษีสรรพสามิต', 'ภาษีการพนัน', 'ภาษียาสูบ', 'ภาษีจัดสรรอื่น',\n       'ภาษีที่ดินและสิ่งปลูกสร้าง'],\n      dtype='object')"
     },
     "execution_count": 21,
     "metadata": {},
     "output_type": "execute_result"
    }
   ],
   "source": [
    "year_wise_tax_trends.columns"
   ]
  },
  {
   "cell_type": "code",
   "execution_count": 22,
   "id": "e67d1615dbe8822b",
   "metadata": {
    "collapsed": false,
    "ExecuteTime": {
     "end_time": "2023-12-07T17:01:00.966837Z",
     "start_time": "2023-12-07T17:01:00.837698Z"
    }
   },
   "outputs": [
    {
     "data": {
      "application/vnd.plotly.v1+json": {
       "data": [
        {
         "alignmentgroup": "True",
         "hovertemplate": "Metric=ภาษีโรงเรือนและที่ดิน<br>Year=%{x}<br>Value (Millions THB)=%{y}<extra></extra>",
         "legendgroup": "ภาษีโรงเรือนและที่ดิน",
         "marker": {
          "color": "#636efa",
          "pattern": {
           "shape": ""
          }
         },
         "name": "ภาษีโรงเรือนและที่ดิน",
         "offsetgroup": "ภาษีโรงเรือนและที่ดิน",
         "orientation": "v",
         "showlegend": true,
         "textposition": "auto",
         "x": [
          2561,
          2562,
          2564,
          2565
         ],
         "xaxis": "x",
         "y": [
          33385.08808714,
          35559.30556844,
          858.71793747,
          897.0874963099999
         ],
         "yaxis": "y",
         "type": "bar"
        },
        {
         "alignmentgroup": "True",
         "hovertemplate": "Metric=ภาษีบำรุงท้องที่<br>Year=%{x}<br>Value (Millions THB)=%{y}<extra></extra>",
         "legendgroup": "ภาษีบำรุงท้องที่",
         "marker": {
          "color": "#EF553B",
          "pattern": {
           "shape": ""
          }
         },
         "name": "ภาษีบำรุงท้องที่",
         "offsetgroup": "ภาษีบำรุงท้องที่",
         "orientation": "v",
         "showlegend": true,
         "textposition": "auto",
         "x": [
          2561,
          2562,
          2564,
          2565
         ],
         "xaxis": "x",
         "y": [
          939.2583243500001,
          968.05136588,
          79.75260162000001,
          30.401902789999998
         ],
         "yaxis": "y",
         "type": "bar"
        },
        {
         "alignmentgroup": "True",
         "hovertemplate": "Metric=ภาษีป้าย<br>Year=%{x}<br>Value (Millions THB)=%{y}<extra></extra>",
         "legendgroup": "ภาษีป้าย",
         "marker": {
          "color": "#00cc96",
          "pattern": {
           "shape": ""
          }
         },
         "name": "ภาษีป้าย",
         "offsetgroup": "ภาษีป้าย",
         "orientation": "v",
         "showlegend": true,
         "textposition": "auto",
         "x": [
          2561,
          2562,
          2564,
          2565
         ],
         "xaxis": "x",
         "y": [
          3424.26585082,
          3609.56313515,
          4441.54770854,
          4550.797434550001
         ],
         "yaxis": "y",
         "type": "bar"
        },
        {
         "alignmentgroup": "True",
         "hovertemplate": "Metric=ภาษีบำรุง อบจ. จากสถานค้าปลีกยาสูบ<br>Year=%{x}<br>Value (Millions THB)=%{y}<extra></extra>",
         "legendgroup": "ภาษีบำรุง อบจ. จากสถานค้าปลีกยาสูบ",
         "marker": {
          "color": "#ab63fa",
          "pattern": {
           "shape": ""
          }
         },
         "name": "ภาษีบำรุง อบจ. จากสถานค้าปลีกยาสูบ",
         "offsetgroup": "ภาษีบำรุง อบจ. จากสถานค้าปลีกยาสูบ",
         "orientation": "v",
         "showlegend": true,
         "textposition": "auto",
         "x": [
          2561,
          2562,
          2564,
          2565
         ],
         "xaxis": "x",
         "y": [
          2326.03655275,
          2544.45869763,
          2368.057868,
          1974.2124059
         ],
         "yaxis": "y",
         "type": "bar"
        },
        {
         "alignmentgroup": "True",
         "hovertemplate": "Metric=ภาษีบำรุงจากสถานค้าปลีกน้ำมัน<br>Year=%{x}<br>Value (Millions THB)=%{y}<extra></extra>",
         "legendgroup": "ภาษีบำรุงจากสถานค้าปลีกน้ำมัน",
         "marker": {
          "color": "#FFA15A",
          "pattern": {
           "shape": ""
          }
         },
         "name": "ภาษีบำรุงจากสถานค้าปลีกน้ำมัน",
         "offsetgroup": "ภาษีบำรุงจากสถานค้าปลีกน้ำมัน",
         "orientation": "v",
         "showlegend": true,
         "textposition": "auto",
         "x": [
          2561,
          2562,
          2564,
          2565
         ],
         "xaxis": "x",
         "y": [
          1045.86598985,
          1075.3127186400002,
          1020.51477449,
          1057.74969508
         ],
         "yaxis": "y",
         "type": "bar"
        },
        {
         "alignmentgroup": "True",
         "hovertemplate": "Metric=ภาษีและค่าธรรมเนียมรถยนต์หรือล้อเลื่อน<br>Year=%{x}<br>Value (Millions THB)=%{y}<extra></extra>",
         "legendgroup": "ภาษีและค่าธรรมเนียมรถยนต์หรือล้อเลื่อน",
         "marker": {
          "color": "#19d3f3",
          "pattern": {
           "shape": ""
          }
         },
         "name": "ภาษีและค่าธรรมเนียมรถยนต์หรือล้อเลื่อน",
         "offsetgroup": "ภาษีและค่าธรรมเนียมรถยนต์หรือล้อเลื่อน",
         "orientation": "v",
         "showlegend": true,
         "textposition": "auto",
         "x": [
          2561,
          2562,
          2564,
          2565
         ],
         "xaxis": "x",
         "y": [
          37362.08087951,
          37512.5055031,
          37995.069231010006,
          39020.83335962
         ],
         "yaxis": "y",
         "type": "bar"
        },
        {
         "alignmentgroup": "True",
         "hovertemplate": "Metric=ภาษีมูลค่าเพิ่มที่จัดเก็บตามประมวลรัษฎากร 5%(อบจ)<br>Year=%{x}<br>Value (Millions THB)=%{y}<extra></extra>",
         "legendgroup": "ภาษีมูลค่าเพิ่มที่จัดเก็บตามประมวลรัษฎากร 5%(อบจ)",
         "marker": {
          "color": "#FF6692",
          "pattern": {
           "shape": ""
          }
         },
         "name": "ภาษีมูลค่าเพิ่มที่จัดเก็บตามประมวลรัษฎากร 5%(อบจ)",
         "offsetgroup": "ภาษีมูลค่าเพิ่มที่จัดเก็บตามประมวลรัษฎากร 5%(อบจ)",
         "orientation": "v",
         "showlegend": true,
         "textposition": "auto",
         "x": [
          2561,
          2562,
          2564,
          2565
         ],
         "xaxis": "x",
         "y": [
          13194.33747006,
          14208.524957380001,
          12888.50045505,
          15015.193272940001
         ],
         "yaxis": "y",
         "type": "bar"
        },
        {
         "alignmentgroup": "True",
         "hovertemplate": "Metric=ภาษีมูลค่าเพิ่มตามกฎหมายท้องถิ่น<br>Year=%{x}<br>Value (Millions THB)=%{y}<extra></extra>",
         "legendgroup": "ภาษีมูลค่าเพิ่มตามกฎหมายท้องถิ่น",
         "marker": {
          "color": "#B6E880",
          "pattern": {
           "shape": ""
          }
         },
         "name": "ภาษีมูลค่าเพิ่มตามกฎหมายท้องถิ่น",
         "offsetgroup": "ภาษีมูลค่าเพิ่มตามกฎหมายท้องถิ่น",
         "orientation": "v",
         "showlegend": true,
         "textposition": "auto",
         "x": [
          2561,
          2562,
          2564,
          2565
         ],
         "xaxis": "x",
         "y": [
          61536.44480357,
          55571.289811840004,
          60343.83920214,
          72549.29635624001
         ],
         "yaxis": "y",
         "type": "bar"
        },
        {
         "alignmentgroup": "True",
         "hovertemplate": "Metric=ภาษีมูลค่าเพิ่มตาม พ.ร.บ. กำหนดแผนฯ<br>Year=%{x}<br>Value (Millions THB)=%{y}<extra></extra>",
         "legendgroup": "ภาษีมูลค่าเพิ่มตาม พ.ร.บ. กำหนดแผนฯ",
         "marker": {
          "color": "#FF97FF",
          "pattern": {
           "shape": ""
          }
         },
         "name": "ภาษีมูลค่าเพิ่มตาม พ.ร.บ. กำหนดแผนฯ",
         "offsetgroup": "ภาษีมูลค่าเพิ่มตาม พ.ร.บ. กำหนดแผนฯ",
         "orientation": "v",
         "showlegend": true,
         "textposition": "auto",
         "x": [
          2561,
          2562,
          2564,
          2565
         ],
         "xaxis": "x",
         "y": [
          112321.67707602,
          114286.84779891,
          111061.65486777,
          127210.98307728999
         ],
         "yaxis": "y",
         "type": "bar"
        },
        {
         "alignmentgroup": "True",
         "hovertemplate": "Metric=ภาษีธุรกิจเฉพาะ<br>Year=%{x}<br>Value (Millions THB)=%{y}<extra></extra>",
         "legendgroup": "ภาษีธุรกิจเฉพาะ",
         "marker": {
          "color": "#FECB52",
          "pattern": {
           "shape": ""
          }
         },
         "name": "ภาษีธุรกิจเฉพาะ",
         "offsetgroup": "ภาษีธุรกิจเฉพาะ",
         "orientation": "v",
         "showlegend": true,
         "textposition": "auto",
         "x": [
          2561,
          2562,
          2564,
          2565
         ],
         "xaxis": "x",
         "y": [
          5936.046465439999,
          6118.59779322,
          5366.59366013,
          5766.9564904
         ],
         "yaxis": "y",
         "type": "bar"
        },
        {
         "alignmentgroup": "True",
         "hovertemplate": "Metric=ภาษีสรรพสามิต<br>Year=%{x}<br>Value (Millions THB)=%{y}<extra></extra>",
         "legendgroup": "ภาษีสรรพสามิต",
         "marker": {
          "color": "#636efa",
          "pattern": {
           "shape": ""
          }
         },
         "name": "ภาษีสรรพสามิต",
         "offsetgroup": "ภาษีสรรพสามิต",
         "orientation": "v",
         "showlegend": true,
         "textposition": "auto",
         "x": [
          2561,
          2562,
          2564,
          2565
         ],
         "xaxis": "x",
         "y": [
          52683.04890398,
          57266.060214699995,
          52799.30193899,
          48248.803825510004
         ],
         "yaxis": "y",
         "type": "bar"
        },
        {
         "alignmentgroup": "True",
         "hovertemplate": "Metric=ภาษีการพนัน<br>Year=%{x}<br>Value (Millions THB)=%{y}<extra></extra>",
         "legendgroup": "ภาษีการพนัน",
         "marker": {
          "color": "#EF553B",
          "pattern": {
           "shape": ""
          }
         },
         "name": "ภาษีการพนัน",
         "offsetgroup": "ภาษีการพนัน",
         "orientation": "v",
         "showlegend": true,
         "textposition": "auto",
         "x": [
          2561,
          2562,
          2564,
          2565
         ],
         "xaxis": "x",
         "y": [
          48.19715798,
          23.981376760000003,
          0.07327168,
          0.10328824999999998
         ],
         "yaxis": "y",
         "type": "bar"
        },
        {
         "alignmentgroup": "True",
         "hovertemplate": "Metric=ภาษียาสูบ<br>Year=%{x}<br>Value (Millions THB)=%{y}<extra></extra>",
         "legendgroup": "ภาษียาสูบ",
         "marker": {
          "color": "#00cc96",
          "pattern": {
           "shape": ""
          }
         },
         "name": "ภาษียาสูบ",
         "offsetgroup": "ภาษียาสูบ",
         "orientation": "v",
         "showlegend": true,
         "textposition": "auto",
         "x": [
          2561,
          2562,
          2564,
          2565
         ],
         "xaxis": "x",
         "y": [
          0.21369703,
          0.19711807999999997,
          0.17314013,
          2.6189999999999997E-4
         ],
         "yaxis": "y",
         "type": "bar"
        },
        {
         "alignmentgroup": "True",
         "hovertemplate": "Metric=ภาษีจัดสรรอื่น<br>Year=%{x}<br>Value (Millions THB)=%{y}<extra></extra>",
         "legendgroup": "ภาษีจัดสรรอื่น",
         "marker": {
          "color": "#ab63fa",
          "pattern": {
           "shape": ""
          }
         },
         "name": "ภาษีจัดสรรอื่น",
         "offsetgroup": "ภาษีจัดสรรอื่น",
         "orientation": "v",
         "showlegend": true,
         "textposition": "auto",
         "x": [
          2561,
          2562,
          2564,
          2565
         ],
         "xaxis": "x",
         "y": [
          113.97993190000001,
          296.46180635,
          157.9493762,
          124.82145095999999
         ],
         "yaxis": "y",
         "type": "bar"
        },
        {
         "alignmentgroup": "True",
         "hovertemplate": "Metric=ภาษีที่ดินและสิ่งปลูกสร้าง<br>Year=%{x}<br>Value (Millions THB)=%{y}<extra></extra>",
         "legendgroup": "ภาษีที่ดินและสิ่งปลูกสร้าง",
         "marker": {
          "color": "#FFA15A",
          "pattern": {
           "shape": ""
          }
         },
         "name": "ภาษีที่ดินและสิ่งปลูกสร้าง",
         "offsetgroup": "ภาษีที่ดินและสิ่งปลูกสร้าง",
         "orientation": "v",
         "showlegend": true,
         "textposition": "auto",
         "x": [
          2561,
          2562,
          2564,
          2565
         ],
         "xaxis": "x",
         "y": [
          0.0,
          0.0,
          4105.41176983,
          35186.94275237
         ],
         "yaxis": "y",
         "type": "bar"
        }
       ],
       "layout": {
        "template": {
         "data": {
          "histogram2dcontour": [
           {
            "type": "histogram2dcontour",
            "colorbar": {
             "outlinewidth": 0,
             "ticks": ""
            },
            "colorscale": [
             [
              0.0,
              "#0d0887"
             ],
             [
              0.1111111111111111,
              "#46039f"
             ],
             [
              0.2222222222222222,
              "#7201a8"
             ],
             [
              0.3333333333333333,
              "#9c179e"
             ],
             [
              0.4444444444444444,
              "#bd3786"
             ],
             [
              0.5555555555555556,
              "#d8576b"
             ],
             [
              0.6666666666666666,
              "#ed7953"
             ],
             [
              0.7777777777777778,
              "#fb9f3a"
             ],
             [
              0.8888888888888888,
              "#fdca26"
             ],
             [
              1.0,
              "#f0f921"
             ]
            ]
           }
          ],
          "choropleth": [
           {
            "type": "choropleth",
            "colorbar": {
             "outlinewidth": 0,
             "ticks": ""
            }
           }
          ],
          "histogram2d": [
           {
            "type": "histogram2d",
            "colorbar": {
             "outlinewidth": 0,
             "ticks": ""
            },
            "colorscale": [
             [
              0.0,
              "#0d0887"
             ],
             [
              0.1111111111111111,
              "#46039f"
             ],
             [
              0.2222222222222222,
              "#7201a8"
             ],
             [
              0.3333333333333333,
              "#9c179e"
             ],
             [
              0.4444444444444444,
              "#bd3786"
             ],
             [
              0.5555555555555556,
              "#d8576b"
             ],
             [
              0.6666666666666666,
              "#ed7953"
             ],
             [
              0.7777777777777778,
              "#fb9f3a"
             ],
             [
              0.8888888888888888,
              "#fdca26"
             ],
             [
              1.0,
              "#f0f921"
             ]
            ]
           }
          ],
          "heatmap": [
           {
            "type": "heatmap",
            "colorbar": {
             "outlinewidth": 0,
             "ticks": ""
            },
            "colorscale": [
             [
              0.0,
              "#0d0887"
             ],
             [
              0.1111111111111111,
              "#46039f"
             ],
             [
              0.2222222222222222,
              "#7201a8"
             ],
             [
              0.3333333333333333,
              "#9c179e"
             ],
             [
              0.4444444444444444,
              "#bd3786"
             ],
             [
              0.5555555555555556,
              "#d8576b"
             ],
             [
              0.6666666666666666,
              "#ed7953"
             ],
             [
              0.7777777777777778,
              "#fb9f3a"
             ],
             [
              0.8888888888888888,
              "#fdca26"
             ],
             [
              1.0,
              "#f0f921"
             ]
            ]
           }
          ],
          "heatmapgl": [
           {
            "type": "heatmapgl",
            "colorbar": {
             "outlinewidth": 0,
             "ticks": ""
            },
            "colorscale": [
             [
              0.0,
              "#0d0887"
             ],
             [
              0.1111111111111111,
              "#46039f"
             ],
             [
              0.2222222222222222,
              "#7201a8"
             ],
             [
              0.3333333333333333,
              "#9c179e"
             ],
             [
              0.4444444444444444,
              "#bd3786"
             ],
             [
              0.5555555555555556,
              "#d8576b"
             ],
             [
              0.6666666666666666,
              "#ed7953"
             ],
             [
              0.7777777777777778,
              "#fb9f3a"
             ],
             [
              0.8888888888888888,
              "#fdca26"
             ],
             [
              1.0,
              "#f0f921"
             ]
            ]
           }
          ],
          "contourcarpet": [
           {
            "type": "contourcarpet",
            "colorbar": {
             "outlinewidth": 0,
             "ticks": ""
            }
           }
          ],
          "contour": [
           {
            "type": "contour",
            "colorbar": {
             "outlinewidth": 0,
             "ticks": ""
            },
            "colorscale": [
             [
              0.0,
              "#0d0887"
             ],
             [
              0.1111111111111111,
              "#46039f"
             ],
             [
              0.2222222222222222,
              "#7201a8"
             ],
             [
              0.3333333333333333,
              "#9c179e"
             ],
             [
              0.4444444444444444,
              "#bd3786"
             ],
             [
              0.5555555555555556,
              "#d8576b"
             ],
             [
              0.6666666666666666,
              "#ed7953"
             ],
             [
              0.7777777777777778,
              "#fb9f3a"
             ],
             [
              0.8888888888888888,
              "#fdca26"
             ],
             [
              1.0,
              "#f0f921"
             ]
            ]
           }
          ],
          "surface": [
           {
            "type": "surface",
            "colorbar": {
             "outlinewidth": 0,
             "ticks": ""
            },
            "colorscale": [
             [
              0.0,
              "#0d0887"
             ],
             [
              0.1111111111111111,
              "#46039f"
             ],
             [
              0.2222222222222222,
              "#7201a8"
             ],
             [
              0.3333333333333333,
              "#9c179e"
             ],
             [
              0.4444444444444444,
              "#bd3786"
             ],
             [
              0.5555555555555556,
              "#d8576b"
             ],
             [
              0.6666666666666666,
              "#ed7953"
             ],
             [
              0.7777777777777778,
              "#fb9f3a"
             ],
             [
              0.8888888888888888,
              "#fdca26"
             ],
             [
              1.0,
              "#f0f921"
             ]
            ]
           }
          ],
          "mesh3d": [
           {
            "type": "mesh3d",
            "colorbar": {
             "outlinewidth": 0,
             "ticks": ""
            }
           }
          ],
          "scatter": [
           {
            "marker": {
             "line": {
              "color": "#283442"
             }
            },
            "type": "scatter"
           }
          ],
          "parcoords": [
           {
            "type": "parcoords",
            "line": {
             "colorbar": {
              "outlinewidth": 0,
              "ticks": ""
             }
            }
           }
          ],
          "scatterpolargl": [
           {
            "type": "scatterpolargl",
            "marker": {
             "colorbar": {
              "outlinewidth": 0,
              "ticks": ""
             }
            }
           }
          ],
          "bar": [
           {
            "error_x": {
             "color": "#f2f5fa"
            },
            "error_y": {
             "color": "#f2f5fa"
            },
            "marker": {
             "line": {
              "color": "rgb(17,17,17)",
              "width": 0.5
             },
             "pattern": {
              "fillmode": "overlay",
              "size": 10,
              "solidity": 0.2
             }
            },
            "type": "bar"
           }
          ],
          "scattergeo": [
           {
            "type": "scattergeo",
            "marker": {
             "colorbar": {
              "outlinewidth": 0,
              "ticks": ""
             }
            }
           }
          ],
          "scatterpolar": [
           {
            "type": "scatterpolar",
            "marker": {
             "colorbar": {
              "outlinewidth": 0,
              "ticks": ""
             }
            }
           }
          ],
          "histogram": [
           {
            "marker": {
             "pattern": {
              "fillmode": "overlay",
              "size": 10,
              "solidity": 0.2
             }
            },
            "type": "histogram"
           }
          ],
          "scattergl": [
           {
            "marker": {
             "line": {
              "color": "#283442"
             }
            },
            "type": "scattergl"
           }
          ],
          "scatter3d": [
           {
            "type": "scatter3d",
            "line": {
             "colorbar": {
              "outlinewidth": 0,
              "ticks": ""
             }
            },
            "marker": {
             "colorbar": {
              "outlinewidth": 0,
              "ticks": ""
             }
            }
           }
          ],
          "scattermapbox": [
           {
            "type": "scattermapbox",
            "marker": {
             "colorbar": {
              "outlinewidth": 0,
              "ticks": ""
             }
            }
           }
          ],
          "scatterternary": [
           {
            "type": "scatterternary",
            "marker": {
             "colorbar": {
              "outlinewidth": 0,
              "ticks": ""
             }
            }
           }
          ],
          "scattercarpet": [
           {
            "type": "scattercarpet",
            "marker": {
             "colorbar": {
              "outlinewidth": 0,
              "ticks": ""
             }
            }
           }
          ],
          "carpet": [
           {
            "aaxis": {
             "endlinecolor": "#A2B1C6",
             "gridcolor": "#506784",
             "linecolor": "#506784",
             "minorgridcolor": "#506784",
             "startlinecolor": "#A2B1C6"
            },
            "baxis": {
             "endlinecolor": "#A2B1C6",
             "gridcolor": "#506784",
             "linecolor": "#506784",
             "minorgridcolor": "#506784",
             "startlinecolor": "#A2B1C6"
            },
            "type": "carpet"
           }
          ],
          "table": [
           {
            "cells": {
             "fill": {
              "color": "#506784"
             },
             "line": {
              "color": "rgb(17,17,17)"
             }
            },
            "header": {
             "fill": {
              "color": "#2a3f5f"
             },
             "line": {
              "color": "rgb(17,17,17)"
             }
            },
            "type": "table"
           }
          ],
          "barpolar": [
           {
            "marker": {
             "line": {
              "color": "rgb(17,17,17)",
              "width": 0.5
             },
             "pattern": {
              "fillmode": "overlay",
              "size": 10,
              "solidity": 0.2
             }
            },
            "type": "barpolar"
           }
          ],
          "pie": [
           {
            "automargin": true,
            "type": "pie"
           }
          ]
         },
         "layout": {
          "autotypenumbers": "strict",
          "colorway": [
           "#636efa",
           "#EF553B",
           "#00cc96",
           "#ab63fa",
           "#FFA15A",
           "#19d3f3",
           "#FF6692",
           "#B6E880",
           "#FF97FF",
           "#FECB52"
          ],
          "font": {
           "color": "#f2f5fa"
          },
          "hovermode": "closest",
          "hoverlabel": {
           "align": "left"
          },
          "paper_bgcolor": "rgb(17,17,17)",
          "plot_bgcolor": "rgb(17,17,17)",
          "polar": {
           "bgcolor": "rgb(17,17,17)",
           "angularaxis": {
            "gridcolor": "#506784",
            "linecolor": "#506784",
            "ticks": ""
           },
           "radialaxis": {
            "gridcolor": "#506784",
            "linecolor": "#506784",
            "ticks": ""
           }
          },
          "ternary": {
           "bgcolor": "rgb(17,17,17)",
           "aaxis": {
            "gridcolor": "#506784",
            "linecolor": "#506784",
            "ticks": ""
           },
           "baxis": {
            "gridcolor": "#506784",
            "linecolor": "#506784",
            "ticks": ""
           },
           "caxis": {
            "gridcolor": "#506784",
            "linecolor": "#506784",
            "ticks": ""
           }
          },
          "coloraxis": {
           "colorbar": {
            "outlinewidth": 0,
            "ticks": ""
           }
          },
          "colorscale": {
           "sequential": [
            [
             0.0,
             "#0d0887"
            ],
            [
             0.1111111111111111,
             "#46039f"
            ],
            [
             0.2222222222222222,
             "#7201a8"
            ],
            [
             0.3333333333333333,
             "#9c179e"
            ],
            [
             0.4444444444444444,
             "#bd3786"
            ],
            [
             0.5555555555555556,
             "#d8576b"
            ],
            [
             0.6666666666666666,
             "#ed7953"
            ],
            [
             0.7777777777777778,
             "#fb9f3a"
            ],
            [
             0.8888888888888888,
             "#fdca26"
            ],
            [
             1.0,
             "#f0f921"
            ]
           ],
           "sequentialminus": [
            [
             0.0,
             "#0d0887"
            ],
            [
             0.1111111111111111,
             "#46039f"
            ],
            [
             0.2222222222222222,
             "#7201a8"
            ],
            [
             0.3333333333333333,
             "#9c179e"
            ],
            [
             0.4444444444444444,
             "#bd3786"
            ],
            [
             0.5555555555555556,
             "#d8576b"
            ],
            [
             0.6666666666666666,
             "#ed7953"
            ],
            [
             0.7777777777777778,
             "#fb9f3a"
            ],
            [
             0.8888888888888888,
             "#fdca26"
            ],
            [
             1.0,
             "#f0f921"
            ]
           ],
           "diverging": [
            [
             0,
             "#8e0152"
            ],
            [
             0.1,
             "#c51b7d"
            ],
            [
             0.2,
             "#de77ae"
            ],
            [
             0.3,
             "#f1b6da"
            ],
            [
             0.4,
             "#fde0ef"
            ],
            [
             0.5,
             "#f7f7f7"
            ],
            [
             0.6,
             "#e6f5d0"
            ],
            [
             0.7,
             "#b8e186"
            ],
            [
             0.8,
             "#7fbc41"
            ],
            [
             0.9,
             "#4d9221"
            ],
            [
             1,
             "#276419"
            ]
           ]
          },
          "xaxis": {
           "gridcolor": "#283442",
           "linecolor": "#506784",
           "ticks": "",
           "title": {
            "standoff": 15
           },
           "zerolinecolor": "#283442",
           "automargin": true,
           "zerolinewidth": 2
          },
          "yaxis": {
           "gridcolor": "#283442",
           "linecolor": "#506784",
           "ticks": "",
           "title": {
            "standoff": 15
           },
           "zerolinecolor": "#283442",
           "automargin": true,
           "zerolinewidth": 2
          },
          "scene": {
           "xaxis": {
            "backgroundcolor": "rgb(17,17,17)",
            "gridcolor": "#506784",
            "linecolor": "#506784",
            "showbackground": true,
            "ticks": "",
            "zerolinecolor": "#C8D4E3",
            "gridwidth": 2
           },
           "yaxis": {
            "backgroundcolor": "rgb(17,17,17)",
            "gridcolor": "#506784",
            "linecolor": "#506784",
            "showbackground": true,
            "ticks": "",
            "zerolinecolor": "#C8D4E3",
            "gridwidth": 2
           },
           "zaxis": {
            "backgroundcolor": "rgb(17,17,17)",
            "gridcolor": "#506784",
            "linecolor": "#506784",
            "showbackground": true,
            "ticks": "",
            "zerolinecolor": "#C8D4E3",
            "gridwidth": 2
           }
          },
          "shapedefaults": {
           "line": {
            "color": "#f2f5fa"
           }
          },
          "annotationdefaults": {
           "arrowcolor": "#f2f5fa",
           "arrowhead": 0,
           "arrowwidth": 1
          },
          "geo": {
           "bgcolor": "rgb(17,17,17)",
           "landcolor": "rgb(17,17,17)",
           "subunitcolor": "#506784",
           "showland": true,
           "showlakes": true,
           "lakecolor": "rgb(17,17,17)"
          },
          "title": {
           "x": 0.05
          },
          "updatemenudefaults": {
           "bgcolor": "#506784",
           "borderwidth": 0
          },
          "sliderdefaults": {
           "bgcolor": "#C8D4E3",
           "borderwidth": 1,
           "bordercolor": "rgb(17,17,17)",
           "tickwidth": 0
          },
          "mapbox": {
           "style": "dark"
          }
         }
        },
        "xaxis": {
         "anchor": "y",
         "domain": [
          0.0,
          1.0
         ],
         "title": {
          "text": "Year"
         }
        },
        "yaxis": {
         "anchor": "x",
         "domain": [
          0.0,
          1.0
         ],
         "title": {
          "text": "Value (Millions THB)"
         }
        },
        "legend": {
         "title": {
          "text": "Metric"
         },
         "tracegroupgap": 0
        },
        "title": {
         "text": "Year-wise Trends of Various Metrics (in Millions)"
        },
        "barmode": "group"
       },
       "config": {
        "plotlyServerURL": "https://plot.ly"
       }
      },
      "text/html": "<div>                            <div id=\"4b02e4fe-4101-4167-9565-a644d70aa16d\" class=\"plotly-graph-div\" style=\"height:525px; width:100%;\"></div>            <script type=\"text/javascript\">                require([\"plotly\"], function(Plotly) {                    window.PLOTLYENV=window.PLOTLYENV || {};                                    if (document.getElementById(\"4b02e4fe-4101-4167-9565-a644d70aa16d\")) {                    Plotly.newPlot(                        \"4b02e4fe-4101-4167-9565-a644d70aa16d\",                        [{\"alignmentgroup\":\"True\",\"hovertemplate\":\"Metric=\\u0e20\\u0e32\\u0e29\\u0e35\\u0e42\\u0e23\\u0e07\\u0e40\\u0e23\\u0e37\\u0e2d\\u0e19\\u0e41\\u0e25\\u0e30\\u0e17\\u0e35\\u0e48\\u0e14\\u0e34\\u0e19\\u003cbr\\u003eYear=%{x}\\u003cbr\\u003eValue (Millions THB)=%{y}\\u003cextra\\u003e\\u003c\\u002fextra\\u003e\",\"legendgroup\":\"\\u0e20\\u0e32\\u0e29\\u0e35\\u0e42\\u0e23\\u0e07\\u0e40\\u0e23\\u0e37\\u0e2d\\u0e19\\u0e41\\u0e25\\u0e30\\u0e17\\u0e35\\u0e48\\u0e14\\u0e34\\u0e19\",\"marker\":{\"color\":\"#636efa\",\"pattern\":{\"shape\":\"\"}},\"name\":\"\\u0e20\\u0e32\\u0e29\\u0e35\\u0e42\\u0e23\\u0e07\\u0e40\\u0e23\\u0e37\\u0e2d\\u0e19\\u0e41\\u0e25\\u0e30\\u0e17\\u0e35\\u0e48\\u0e14\\u0e34\\u0e19\",\"offsetgroup\":\"\\u0e20\\u0e32\\u0e29\\u0e35\\u0e42\\u0e23\\u0e07\\u0e40\\u0e23\\u0e37\\u0e2d\\u0e19\\u0e41\\u0e25\\u0e30\\u0e17\\u0e35\\u0e48\\u0e14\\u0e34\\u0e19\",\"orientation\":\"v\",\"showlegend\":true,\"textposition\":\"auto\",\"x\":[2561,2562,2564,2565],\"xaxis\":\"x\",\"y\":[33385.08808714,35559.30556844,858.71793747,897.0874963099999],\"yaxis\":\"y\",\"type\":\"bar\"},{\"alignmentgroup\":\"True\",\"hovertemplate\":\"Metric=\\u0e20\\u0e32\\u0e29\\u0e35\\u0e1a\\u0e33\\u0e23\\u0e38\\u0e07\\u0e17\\u0e49\\u0e2d\\u0e07\\u0e17\\u0e35\\u0e48\\u003cbr\\u003eYear=%{x}\\u003cbr\\u003eValue (Millions THB)=%{y}\\u003cextra\\u003e\\u003c\\u002fextra\\u003e\",\"legendgroup\":\"\\u0e20\\u0e32\\u0e29\\u0e35\\u0e1a\\u0e33\\u0e23\\u0e38\\u0e07\\u0e17\\u0e49\\u0e2d\\u0e07\\u0e17\\u0e35\\u0e48\",\"marker\":{\"color\":\"#EF553B\",\"pattern\":{\"shape\":\"\"}},\"name\":\"\\u0e20\\u0e32\\u0e29\\u0e35\\u0e1a\\u0e33\\u0e23\\u0e38\\u0e07\\u0e17\\u0e49\\u0e2d\\u0e07\\u0e17\\u0e35\\u0e48\",\"offsetgroup\":\"\\u0e20\\u0e32\\u0e29\\u0e35\\u0e1a\\u0e33\\u0e23\\u0e38\\u0e07\\u0e17\\u0e49\\u0e2d\\u0e07\\u0e17\\u0e35\\u0e48\",\"orientation\":\"v\",\"showlegend\":true,\"textposition\":\"auto\",\"x\":[2561,2562,2564,2565],\"xaxis\":\"x\",\"y\":[939.2583243500001,968.05136588,79.75260162000001,30.401902789999998],\"yaxis\":\"y\",\"type\":\"bar\"},{\"alignmentgroup\":\"True\",\"hovertemplate\":\"Metric=\\u0e20\\u0e32\\u0e29\\u0e35\\u0e1b\\u0e49\\u0e32\\u0e22\\u003cbr\\u003eYear=%{x}\\u003cbr\\u003eValue (Millions THB)=%{y}\\u003cextra\\u003e\\u003c\\u002fextra\\u003e\",\"legendgroup\":\"\\u0e20\\u0e32\\u0e29\\u0e35\\u0e1b\\u0e49\\u0e32\\u0e22\",\"marker\":{\"color\":\"#00cc96\",\"pattern\":{\"shape\":\"\"}},\"name\":\"\\u0e20\\u0e32\\u0e29\\u0e35\\u0e1b\\u0e49\\u0e32\\u0e22\",\"offsetgroup\":\"\\u0e20\\u0e32\\u0e29\\u0e35\\u0e1b\\u0e49\\u0e32\\u0e22\",\"orientation\":\"v\",\"showlegend\":true,\"textposition\":\"auto\",\"x\":[2561,2562,2564,2565],\"xaxis\":\"x\",\"y\":[3424.26585082,3609.56313515,4441.54770854,4550.797434550001],\"yaxis\":\"y\",\"type\":\"bar\"},{\"alignmentgroup\":\"True\",\"hovertemplate\":\"Metric=\\u0e20\\u0e32\\u0e29\\u0e35\\u0e1a\\u0e33\\u0e23\\u0e38\\u0e07 \\u0e2d\\u0e1a\\u0e08. \\u0e08\\u0e32\\u0e01\\u0e2a\\u0e16\\u0e32\\u0e19\\u0e04\\u0e49\\u0e32\\u0e1b\\u0e25\\u0e35\\u0e01\\u0e22\\u0e32\\u0e2a\\u0e39\\u0e1a\\u003cbr\\u003eYear=%{x}\\u003cbr\\u003eValue (Millions THB)=%{y}\\u003cextra\\u003e\\u003c\\u002fextra\\u003e\",\"legendgroup\":\"\\u0e20\\u0e32\\u0e29\\u0e35\\u0e1a\\u0e33\\u0e23\\u0e38\\u0e07 \\u0e2d\\u0e1a\\u0e08. \\u0e08\\u0e32\\u0e01\\u0e2a\\u0e16\\u0e32\\u0e19\\u0e04\\u0e49\\u0e32\\u0e1b\\u0e25\\u0e35\\u0e01\\u0e22\\u0e32\\u0e2a\\u0e39\\u0e1a\",\"marker\":{\"color\":\"#ab63fa\",\"pattern\":{\"shape\":\"\"}},\"name\":\"\\u0e20\\u0e32\\u0e29\\u0e35\\u0e1a\\u0e33\\u0e23\\u0e38\\u0e07 \\u0e2d\\u0e1a\\u0e08. \\u0e08\\u0e32\\u0e01\\u0e2a\\u0e16\\u0e32\\u0e19\\u0e04\\u0e49\\u0e32\\u0e1b\\u0e25\\u0e35\\u0e01\\u0e22\\u0e32\\u0e2a\\u0e39\\u0e1a\",\"offsetgroup\":\"\\u0e20\\u0e32\\u0e29\\u0e35\\u0e1a\\u0e33\\u0e23\\u0e38\\u0e07 \\u0e2d\\u0e1a\\u0e08. \\u0e08\\u0e32\\u0e01\\u0e2a\\u0e16\\u0e32\\u0e19\\u0e04\\u0e49\\u0e32\\u0e1b\\u0e25\\u0e35\\u0e01\\u0e22\\u0e32\\u0e2a\\u0e39\\u0e1a\",\"orientation\":\"v\",\"showlegend\":true,\"textposition\":\"auto\",\"x\":[2561,2562,2564,2565],\"xaxis\":\"x\",\"y\":[2326.03655275,2544.45869763,2368.057868,1974.2124059],\"yaxis\":\"y\",\"type\":\"bar\"},{\"alignmentgroup\":\"True\",\"hovertemplate\":\"Metric=\\u0e20\\u0e32\\u0e29\\u0e35\\u0e1a\\u0e33\\u0e23\\u0e38\\u0e07\\u0e08\\u0e32\\u0e01\\u0e2a\\u0e16\\u0e32\\u0e19\\u0e04\\u0e49\\u0e32\\u0e1b\\u0e25\\u0e35\\u0e01\\u0e19\\u0e49\\u0e33\\u0e21\\u0e31\\u0e19\\u003cbr\\u003eYear=%{x}\\u003cbr\\u003eValue (Millions THB)=%{y}\\u003cextra\\u003e\\u003c\\u002fextra\\u003e\",\"legendgroup\":\"\\u0e20\\u0e32\\u0e29\\u0e35\\u0e1a\\u0e33\\u0e23\\u0e38\\u0e07\\u0e08\\u0e32\\u0e01\\u0e2a\\u0e16\\u0e32\\u0e19\\u0e04\\u0e49\\u0e32\\u0e1b\\u0e25\\u0e35\\u0e01\\u0e19\\u0e49\\u0e33\\u0e21\\u0e31\\u0e19\",\"marker\":{\"color\":\"#FFA15A\",\"pattern\":{\"shape\":\"\"}},\"name\":\"\\u0e20\\u0e32\\u0e29\\u0e35\\u0e1a\\u0e33\\u0e23\\u0e38\\u0e07\\u0e08\\u0e32\\u0e01\\u0e2a\\u0e16\\u0e32\\u0e19\\u0e04\\u0e49\\u0e32\\u0e1b\\u0e25\\u0e35\\u0e01\\u0e19\\u0e49\\u0e33\\u0e21\\u0e31\\u0e19\",\"offsetgroup\":\"\\u0e20\\u0e32\\u0e29\\u0e35\\u0e1a\\u0e33\\u0e23\\u0e38\\u0e07\\u0e08\\u0e32\\u0e01\\u0e2a\\u0e16\\u0e32\\u0e19\\u0e04\\u0e49\\u0e32\\u0e1b\\u0e25\\u0e35\\u0e01\\u0e19\\u0e49\\u0e33\\u0e21\\u0e31\\u0e19\",\"orientation\":\"v\",\"showlegend\":true,\"textposition\":\"auto\",\"x\":[2561,2562,2564,2565],\"xaxis\":\"x\",\"y\":[1045.86598985,1075.3127186400002,1020.51477449,1057.74969508],\"yaxis\":\"y\",\"type\":\"bar\"},{\"alignmentgroup\":\"True\",\"hovertemplate\":\"Metric=\\u0e20\\u0e32\\u0e29\\u0e35\\u0e41\\u0e25\\u0e30\\u0e04\\u0e48\\u0e32\\u0e18\\u0e23\\u0e23\\u0e21\\u0e40\\u0e19\\u0e35\\u0e22\\u0e21\\u0e23\\u0e16\\u0e22\\u0e19\\u0e15\\u0e4c\\u0e2b\\u0e23\\u0e37\\u0e2d\\u0e25\\u0e49\\u0e2d\\u0e40\\u0e25\\u0e37\\u0e48\\u0e2d\\u0e19\\u003cbr\\u003eYear=%{x}\\u003cbr\\u003eValue (Millions THB)=%{y}\\u003cextra\\u003e\\u003c\\u002fextra\\u003e\",\"legendgroup\":\"\\u0e20\\u0e32\\u0e29\\u0e35\\u0e41\\u0e25\\u0e30\\u0e04\\u0e48\\u0e32\\u0e18\\u0e23\\u0e23\\u0e21\\u0e40\\u0e19\\u0e35\\u0e22\\u0e21\\u0e23\\u0e16\\u0e22\\u0e19\\u0e15\\u0e4c\\u0e2b\\u0e23\\u0e37\\u0e2d\\u0e25\\u0e49\\u0e2d\\u0e40\\u0e25\\u0e37\\u0e48\\u0e2d\\u0e19\",\"marker\":{\"color\":\"#19d3f3\",\"pattern\":{\"shape\":\"\"}},\"name\":\"\\u0e20\\u0e32\\u0e29\\u0e35\\u0e41\\u0e25\\u0e30\\u0e04\\u0e48\\u0e32\\u0e18\\u0e23\\u0e23\\u0e21\\u0e40\\u0e19\\u0e35\\u0e22\\u0e21\\u0e23\\u0e16\\u0e22\\u0e19\\u0e15\\u0e4c\\u0e2b\\u0e23\\u0e37\\u0e2d\\u0e25\\u0e49\\u0e2d\\u0e40\\u0e25\\u0e37\\u0e48\\u0e2d\\u0e19\",\"offsetgroup\":\"\\u0e20\\u0e32\\u0e29\\u0e35\\u0e41\\u0e25\\u0e30\\u0e04\\u0e48\\u0e32\\u0e18\\u0e23\\u0e23\\u0e21\\u0e40\\u0e19\\u0e35\\u0e22\\u0e21\\u0e23\\u0e16\\u0e22\\u0e19\\u0e15\\u0e4c\\u0e2b\\u0e23\\u0e37\\u0e2d\\u0e25\\u0e49\\u0e2d\\u0e40\\u0e25\\u0e37\\u0e48\\u0e2d\\u0e19\",\"orientation\":\"v\",\"showlegend\":true,\"textposition\":\"auto\",\"x\":[2561,2562,2564,2565],\"xaxis\":\"x\",\"y\":[37362.08087951,37512.5055031,37995.069231010006,39020.83335962],\"yaxis\":\"y\",\"type\":\"bar\"},{\"alignmentgroup\":\"True\",\"hovertemplate\":\"Metric=\\u0e20\\u0e32\\u0e29\\u0e35\\u0e21\\u0e39\\u0e25\\u0e04\\u0e48\\u0e32\\u0e40\\u0e1e\\u0e34\\u0e48\\u0e21\\u0e17\\u0e35\\u0e48\\u0e08\\u0e31\\u0e14\\u0e40\\u0e01\\u0e47\\u0e1a\\u0e15\\u0e32\\u0e21\\u0e1b\\u0e23\\u0e30\\u0e21\\u0e27\\u0e25\\u0e23\\u0e31\\u0e29\\u0e0e\\u0e32\\u0e01\\u0e23 5%(\\u0e2d\\u0e1a\\u0e08)\\u003cbr\\u003eYear=%{x}\\u003cbr\\u003eValue (Millions THB)=%{y}\\u003cextra\\u003e\\u003c\\u002fextra\\u003e\",\"legendgroup\":\"\\u0e20\\u0e32\\u0e29\\u0e35\\u0e21\\u0e39\\u0e25\\u0e04\\u0e48\\u0e32\\u0e40\\u0e1e\\u0e34\\u0e48\\u0e21\\u0e17\\u0e35\\u0e48\\u0e08\\u0e31\\u0e14\\u0e40\\u0e01\\u0e47\\u0e1a\\u0e15\\u0e32\\u0e21\\u0e1b\\u0e23\\u0e30\\u0e21\\u0e27\\u0e25\\u0e23\\u0e31\\u0e29\\u0e0e\\u0e32\\u0e01\\u0e23 5%(\\u0e2d\\u0e1a\\u0e08)\",\"marker\":{\"color\":\"#FF6692\",\"pattern\":{\"shape\":\"\"}},\"name\":\"\\u0e20\\u0e32\\u0e29\\u0e35\\u0e21\\u0e39\\u0e25\\u0e04\\u0e48\\u0e32\\u0e40\\u0e1e\\u0e34\\u0e48\\u0e21\\u0e17\\u0e35\\u0e48\\u0e08\\u0e31\\u0e14\\u0e40\\u0e01\\u0e47\\u0e1a\\u0e15\\u0e32\\u0e21\\u0e1b\\u0e23\\u0e30\\u0e21\\u0e27\\u0e25\\u0e23\\u0e31\\u0e29\\u0e0e\\u0e32\\u0e01\\u0e23 5%(\\u0e2d\\u0e1a\\u0e08)\",\"offsetgroup\":\"\\u0e20\\u0e32\\u0e29\\u0e35\\u0e21\\u0e39\\u0e25\\u0e04\\u0e48\\u0e32\\u0e40\\u0e1e\\u0e34\\u0e48\\u0e21\\u0e17\\u0e35\\u0e48\\u0e08\\u0e31\\u0e14\\u0e40\\u0e01\\u0e47\\u0e1a\\u0e15\\u0e32\\u0e21\\u0e1b\\u0e23\\u0e30\\u0e21\\u0e27\\u0e25\\u0e23\\u0e31\\u0e29\\u0e0e\\u0e32\\u0e01\\u0e23 5%(\\u0e2d\\u0e1a\\u0e08)\",\"orientation\":\"v\",\"showlegend\":true,\"textposition\":\"auto\",\"x\":[2561,2562,2564,2565],\"xaxis\":\"x\",\"y\":[13194.33747006,14208.524957380001,12888.50045505,15015.193272940001],\"yaxis\":\"y\",\"type\":\"bar\"},{\"alignmentgroup\":\"True\",\"hovertemplate\":\"Metric=\\u0e20\\u0e32\\u0e29\\u0e35\\u0e21\\u0e39\\u0e25\\u0e04\\u0e48\\u0e32\\u0e40\\u0e1e\\u0e34\\u0e48\\u0e21\\u0e15\\u0e32\\u0e21\\u0e01\\u0e0e\\u0e2b\\u0e21\\u0e32\\u0e22\\u0e17\\u0e49\\u0e2d\\u0e07\\u0e16\\u0e34\\u0e48\\u0e19\\u003cbr\\u003eYear=%{x}\\u003cbr\\u003eValue (Millions THB)=%{y}\\u003cextra\\u003e\\u003c\\u002fextra\\u003e\",\"legendgroup\":\"\\u0e20\\u0e32\\u0e29\\u0e35\\u0e21\\u0e39\\u0e25\\u0e04\\u0e48\\u0e32\\u0e40\\u0e1e\\u0e34\\u0e48\\u0e21\\u0e15\\u0e32\\u0e21\\u0e01\\u0e0e\\u0e2b\\u0e21\\u0e32\\u0e22\\u0e17\\u0e49\\u0e2d\\u0e07\\u0e16\\u0e34\\u0e48\\u0e19\",\"marker\":{\"color\":\"#B6E880\",\"pattern\":{\"shape\":\"\"}},\"name\":\"\\u0e20\\u0e32\\u0e29\\u0e35\\u0e21\\u0e39\\u0e25\\u0e04\\u0e48\\u0e32\\u0e40\\u0e1e\\u0e34\\u0e48\\u0e21\\u0e15\\u0e32\\u0e21\\u0e01\\u0e0e\\u0e2b\\u0e21\\u0e32\\u0e22\\u0e17\\u0e49\\u0e2d\\u0e07\\u0e16\\u0e34\\u0e48\\u0e19\",\"offsetgroup\":\"\\u0e20\\u0e32\\u0e29\\u0e35\\u0e21\\u0e39\\u0e25\\u0e04\\u0e48\\u0e32\\u0e40\\u0e1e\\u0e34\\u0e48\\u0e21\\u0e15\\u0e32\\u0e21\\u0e01\\u0e0e\\u0e2b\\u0e21\\u0e32\\u0e22\\u0e17\\u0e49\\u0e2d\\u0e07\\u0e16\\u0e34\\u0e48\\u0e19\",\"orientation\":\"v\",\"showlegend\":true,\"textposition\":\"auto\",\"x\":[2561,2562,2564,2565],\"xaxis\":\"x\",\"y\":[61536.44480357,55571.289811840004,60343.83920214,72549.29635624001],\"yaxis\":\"y\",\"type\":\"bar\"},{\"alignmentgroup\":\"True\",\"hovertemplate\":\"Metric=\\u0e20\\u0e32\\u0e29\\u0e35\\u0e21\\u0e39\\u0e25\\u0e04\\u0e48\\u0e32\\u0e40\\u0e1e\\u0e34\\u0e48\\u0e21\\u0e15\\u0e32\\u0e21 \\u0e1e.\\u0e23.\\u0e1a. \\u0e01\\u0e33\\u0e2b\\u0e19\\u0e14\\u0e41\\u0e1c\\u0e19\\u0e2f\\u003cbr\\u003eYear=%{x}\\u003cbr\\u003eValue (Millions THB)=%{y}\\u003cextra\\u003e\\u003c\\u002fextra\\u003e\",\"legendgroup\":\"\\u0e20\\u0e32\\u0e29\\u0e35\\u0e21\\u0e39\\u0e25\\u0e04\\u0e48\\u0e32\\u0e40\\u0e1e\\u0e34\\u0e48\\u0e21\\u0e15\\u0e32\\u0e21 \\u0e1e.\\u0e23.\\u0e1a. \\u0e01\\u0e33\\u0e2b\\u0e19\\u0e14\\u0e41\\u0e1c\\u0e19\\u0e2f\",\"marker\":{\"color\":\"#FF97FF\",\"pattern\":{\"shape\":\"\"}},\"name\":\"\\u0e20\\u0e32\\u0e29\\u0e35\\u0e21\\u0e39\\u0e25\\u0e04\\u0e48\\u0e32\\u0e40\\u0e1e\\u0e34\\u0e48\\u0e21\\u0e15\\u0e32\\u0e21 \\u0e1e.\\u0e23.\\u0e1a. \\u0e01\\u0e33\\u0e2b\\u0e19\\u0e14\\u0e41\\u0e1c\\u0e19\\u0e2f\",\"offsetgroup\":\"\\u0e20\\u0e32\\u0e29\\u0e35\\u0e21\\u0e39\\u0e25\\u0e04\\u0e48\\u0e32\\u0e40\\u0e1e\\u0e34\\u0e48\\u0e21\\u0e15\\u0e32\\u0e21 \\u0e1e.\\u0e23.\\u0e1a. \\u0e01\\u0e33\\u0e2b\\u0e19\\u0e14\\u0e41\\u0e1c\\u0e19\\u0e2f\",\"orientation\":\"v\",\"showlegend\":true,\"textposition\":\"auto\",\"x\":[2561,2562,2564,2565],\"xaxis\":\"x\",\"y\":[112321.67707602,114286.84779891,111061.65486777,127210.98307728999],\"yaxis\":\"y\",\"type\":\"bar\"},{\"alignmentgroup\":\"True\",\"hovertemplate\":\"Metric=\\u0e20\\u0e32\\u0e29\\u0e35\\u0e18\\u0e38\\u0e23\\u0e01\\u0e34\\u0e08\\u0e40\\u0e09\\u0e1e\\u0e32\\u0e30\\u003cbr\\u003eYear=%{x}\\u003cbr\\u003eValue (Millions THB)=%{y}\\u003cextra\\u003e\\u003c\\u002fextra\\u003e\",\"legendgroup\":\"\\u0e20\\u0e32\\u0e29\\u0e35\\u0e18\\u0e38\\u0e23\\u0e01\\u0e34\\u0e08\\u0e40\\u0e09\\u0e1e\\u0e32\\u0e30\",\"marker\":{\"color\":\"#FECB52\",\"pattern\":{\"shape\":\"\"}},\"name\":\"\\u0e20\\u0e32\\u0e29\\u0e35\\u0e18\\u0e38\\u0e23\\u0e01\\u0e34\\u0e08\\u0e40\\u0e09\\u0e1e\\u0e32\\u0e30\",\"offsetgroup\":\"\\u0e20\\u0e32\\u0e29\\u0e35\\u0e18\\u0e38\\u0e23\\u0e01\\u0e34\\u0e08\\u0e40\\u0e09\\u0e1e\\u0e32\\u0e30\",\"orientation\":\"v\",\"showlegend\":true,\"textposition\":\"auto\",\"x\":[2561,2562,2564,2565],\"xaxis\":\"x\",\"y\":[5936.046465439999,6118.59779322,5366.59366013,5766.9564904],\"yaxis\":\"y\",\"type\":\"bar\"},{\"alignmentgroup\":\"True\",\"hovertemplate\":\"Metric=\\u0e20\\u0e32\\u0e29\\u0e35\\u0e2a\\u0e23\\u0e23\\u0e1e\\u0e2a\\u0e32\\u0e21\\u0e34\\u0e15\\u003cbr\\u003eYear=%{x}\\u003cbr\\u003eValue (Millions THB)=%{y}\\u003cextra\\u003e\\u003c\\u002fextra\\u003e\",\"legendgroup\":\"\\u0e20\\u0e32\\u0e29\\u0e35\\u0e2a\\u0e23\\u0e23\\u0e1e\\u0e2a\\u0e32\\u0e21\\u0e34\\u0e15\",\"marker\":{\"color\":\"#636efa\",\"pattern\":{\"shape\":\"\"}},\"name\":\"\\u0e20\\u0e32\\u0e29\\u0e35\\u0e2a\\u0e23\\u0e23\\u0e1e\\u0e2a\\u0e32\\u0e21\\u0e34\\u0e15\",\"offsetgroup\":\"\\u0e20\\u0e32\\u0e29\\u0e35\\u0e2a\\u0e23\\u0e23\\u0e1e\\u0e2a\\u0e32\\u0e21\\u0e34\\u0e15\",\"orientation\":\"v\",\"showlegend\":true,\"textposition\":\"auto\",\"x\":[2561,2562,2564,2565],\"xaxis\":\"x\",\"y\":[52683.04890398,57266.060214699995,52799.30193899,48248.803825510004],\"yaxis\":\"y\",\"type\":\"bar\"},{\"alignmentgroup\":\"True\",\"hovertemplate\":\"Metric=\\u0e20\\u0e32\\u0e29\\u0e35\\u0e01\\u0e32\\u0e23\\u0e1e\\u0e19\\u0e31\\u0e19\\u003cbr\\u003eYear=%{x}\\u003cbr\\u003eValue (Millions THB)=%{y}\\u003cextra\\u003e\\u003c\\u002fextra\\u003e\",\"legendgroup\":\"\\u0e20\\u0e32\\u0e29\\u0e35\\u0e01\\u0e32\\u0e23\\u0e1e\\u0e19\\u0e31\\u0e19\",\"marker\":{\"color\":\"#EF553B\",\"pattern\":{\"shape\":\"\"}},\"name\":\"\\u0e20\\u0e32\\u0e29\\u0e35\\u0e01\\u0e32\\u0e23\\u0e1e\\u0e19\\u0e31\\u0e19\",\"offsetgroup\":\"\\u0e20\\u0e32\\u0e29\\u0e35\\u0e01\\u0e32\\u0e23\\u0e1e\\u0e19\\u0e31\\u0e19\",\"orientation\":\"v\",\"showlegend\":true,\"textposition\":\"auto\",\"x\":[2561,2562,2564,2565],\"xaxis\":\"x\",\"y\":[48.19715798,23.981376760000003,0.07327168,0.10328824999999998],\"yaxis\":\"y\",\"type\":\"bar\"},{\"alignmentgroup\":\"True\",\"hovertemplate\":\"Metric=\\u0e20\\u0e32\\u0e29\\u0e35\\u0e22\\u0e32\\u0e2a\\u0e39\\u0e1a\\u003cbr\\u003eYear=%{x}\\u003cbr\\u003eValue (Millions THB)=%{y}\\u003cextra\\u003e\\u003c\\u002fextra\\u003e\",\"legendgroup\":\"\\u0e20\\u0e32\\u0e29\\u0e35\\u0e22\\u0e32\\u0e2a\\u0e39\\u0e1a\",\"marker\":{\"color\":\"#00cc96\",\"pattern\":{\"shape\":\"\"}},\"name\":\"\\u0e20\\u0e32\\u0e29\\u0e35\\u0e22\\u0e32\\u0e2a\\u0e39\\u0e1a\",\"offsetgroup\":\"\\u0e20\\u0e32\\u0e29\\u0e35\\u0e22\\u0e32\\u0e2a\\u0e39\\u0e1a\",\"orientation\":\"v\",\"showlegend\":true,\"textposition\":\"auto\",\"x\":[2561,2562,2564,2565],\"xaxis\":\"x\",\"y\":[0.21369703,0.19711807999999997,0.17314013,0.00026189999999999997],\"yaxis\":\"y\",\"type\":\"bar\"},{\"alignmentgroup\":\"True\",\"hovertemplate\":\"Metric=\\u0e20\\u0e32\\u0e29\\u0e35\\u0e08\\u0e31\\u0e14\\u0e2a\\u0e23\\u0e23\\u0e2d\\u0e37\\u0e48\\u0e19\\u003cbr\\u003eYear=%{x}\\u003cbr\\u003eValue (Millions THB)=%{y}\\u003cextra\\u003e\\u003c\\u002fextra\\u003e\",\"legendgroup\":\"\\u0e20\\u0e32\\u0e29\\u0e35\\u0e08\\u0e31\\u0e14\\u0e2a\\u0e23\\u0e23\\u0e2d\\u0e37\\u0e48\\u0e19\",\"marker\":{\"color\":\"#ab63fa\",\"pattern\":{\"shape\":\"\"}},\"name\":\"\\u0e20\\u0e32\\u0e29\\u0e35\\u0e08\\u0e31\\u0e14\\u0e2a\\u0e23\\u0e23\\u0e2d\\u0e37\\u0e48\\u0e19\",\"offsetgroup\":\"\\u0e20\\u0e32\\u0e29\\u0e35\\u0e08\\u0e31\\u0e14\\u0e2a\\u0e23\\u0e23\\u0e2d\\u0e37\\u0e48\\u0e19\",\"orientation\":\"v\",\"showlegend\":true,\"textposition\":\"auto\",\"x\":[2561,2562,2564,2565],\"xaxis\":\"x\",\"y\":[113.97993190000001,296.46180635,157.9493762,124.82145095999999],\"yaxis\":\"y\",\"type\":\"bar\"},{\"alignmentgroup\":\"True\",\"hovertemplate\":\"Metric=\\u0e20\\u0e32\\u0e29\\u0e35\\u0e17\\u0e35\\u0e48\\u0e14\\u0e34\\u0e19\\u0e41\\u0e25\\u0e30\\u0e2a\\u0e34\\u0e48\\u0e07\\u0e1b\\u0e25\\u0e39\\u0e01\\u0e2a\\u0e23\\u0e49\\u0e32\\u0e07\\u003cbr\\u003eYear=%{x}\\u003cbr\\u003eValue (Millions THB)=%{y}\\u003cextra\\u003e\\u003c\\u002fextra\\u003e\",\"legendgroup\":\"\\u0e20\\u0e32\\u0e29\\u0e35\\u0e17\\u0e35\\u0e48\\u0e14\\u0e34\\u0e19\\u0e41\\u0e25\\u0e30\\u0e2a\\u0e34\\u0e48\\u0e07\\u0e1b\\u0e25\\u0e39\\u0e01\\u0e2a\\u0e23\\u0e49\\u0e32\\u0e07\",\"marker\":{\"color\":\"#FFA15A\",\"pattern\":{\"shape\":\"\"}},\"name\":\"\\u0e20\\u0e32\\u0e29\\u0e35\\u0e17\\u0e35\\u0e48\\u0e14\\u0e34\\u0e19\\u0e41\\u0e25\\u0e30\\u0e2a\\u0e34\\u0e48\\u0e07\\u0e1b\\u0e25\\u0e39\\u0e01\\u0e2a\\u0e23\\u0e49\\u0e32\\u0e07\",\"offsetgroup\":\"\\u0e20\\u0e32\\u0e29\\u0e35\\u0e17\\u0e35\\u0e48\\u0e14\\u0e34\\u0e19\\u0e41\\u0e25\\u0e30\\u0e2a\\u0e34\\u0e48\\u0e07\\u0e1b\\u0e25\\u0e39\\u0e01\\u0e2a\\u0e23\\u0e49\\u0e32\\u0e07\",\"orientation\":\"v\",\"showlegend\":true,\"textposition\":\"auto\",\"x\":[2561,2562,2564,2565],\"xaxis\":\"x\",\"y\":[0.0,0.0,4105.41176983,35186.94275237],\"yaxis\":\"y\",\"type\":\"bar\"}],                        {\"template\":{\"data\":{\"histogram2dcontour\":[{\"type\":\"histogram2dcontour\",\"colorbar\":{\"outlinewidth\":0,\"ticks\":\"\"},\"colorscale\":[[0.0,\"#0d0887\"],[0.1111111111111111,\"#46039f\"],[0.2222222222222222,\"#7201a8\"],[0.3333333333333333,\"#9c179e\"],[0.4444444444444444,\"#bd3786\"],[0.5555555555555556,\"#d8576b\"],[0.6666666666666666,\"#ed7953\"],[0.7777777777777778,\"#fb9f3a\"],[0.8888888888888888,\"#fdca26\"],[1.0,\"#f0f921\"]]}],\"choropleth\":[{\"type\":\"choropleth\",\"colorbar\":{\"outlinewidth\":0,\"ticks\":\"\"}}],\"histogram2d\":[{\"type\":\"histogram2d\",\"colorbar\":{\"outlinewidth\":0,\"ticks\":\"\"},\"colorscale\":[[0.0,\"#0d0887\"],[0.1111111111111111,\"#46039f\"],[0.2222222222222222,\"#7201a8\"],[0.3333333333333333,\"#9c179e\"],[0.4444444444444444,\"#bd3786\"],[0.5555555555555556,\"#d8576b\"],[0.6666666666666666,\"#ed7953\"],[0.7777777777777778,\"#fb9f3a\"],[0.8888888888888888,\"#fdca26\"],[1.0,\"#f0f921\"]]}],\"heatmap\":[{\"type\":\"heatmap\",\"colorbar\":{\"outlinewidth\":0,\"ticks\":\"\"},\"colorscale\":[[0.0,\"#0d0887\"],[0.1111111111111111,\"#46039f\"],[0.2222222222222222,\"#7201a8\"],[0.3333333333333333,\"#9c179e\"],[0.4444444444444444,\"#bd3786\"],[0.5555555555555556,\"#d8576b\"],[0.6666666666666666,\"#ed7953\"],[0.7777777777777778,\"#fb9f3a\"],[0.8888888888888888,\"#fdca26\"],[1.0,\"#f0f921\"]]}],\"heatmapgl\":[{\"type\":\"heatmapgl\",\"colorbar\":{\"outlinewidth\":0,\"ticks\":\"\"},\"colorscale\":[[0.0,\"#0d0887\"],[0.1111111111111111,\"#46039f\"],[0.2222222222222222,\"#7201a8\"],[0.3333333333333333,\"#9c179e\"],[0.4444444444444444,\"#bd3786\"],[0.5555555555555556,\"#d8576b\"],[0.6666666666666666,\"#ed7953\"],[0.7777777777777778,\"#fb9f3a\"],[0.8888888888888888,\"#fdca26\"],[1.0,\"#f0f921\"]]}],\"contourcarpet\":[{\"type\":\"contourcarpet\",\"colorbar\":{\"outlinewidth\":0,\"ticks\":\"\"}}],\"contour\":[{\"type\":\"contour\",\"colorbar\":{\"outlinewidth\":0,\"ticks\":\"\"},\"colorscale\":[[0.0,\"#0d0887\"],[0.1111111111111111,\"#46039f\"],[0.2222222222222222,\"#7201a8\"],[0.3333333333333333,\"#9c179e\"],[0.4444444444444444,\"#bd3786\"],[0.5555555555555556,\"#d8576b\"],[0.6666666666666666,\"#ed7953\"],[0.7777777777777778,\"#fb9f3a\"],[0.8888888888888888,\"#fdca26\"],[1.0,\"#f0f921\"]]}],\"surface\":[{\"type\":\"surface\",\"colorbar\":{\"outlinewidth\":0,\"ticks\":\"\"},\"colorscale\":[[0.0,\"#0d0887\"],[0.1111111111111111,\"#46039f\"],[0.2222222222222222,\"#7201a8\"],[0.3333333333333333,\"#9c179e\"],[0.4444444444444444,\"#bd3786\"],[0.5555555555555556,\"#d8576b\"],[0.6666666666666666,\"#ed7953\"],[0.7777777777777778,\"#fb9f3a\"],[0.8888888888888888,\"#fdca26\"],[1.0,\"#f0f921\"]]}],\"mesh3d\":[{\"type\":\"mesh3d\",\"colorbar\":{\"outlinewidth\":0,\"ticks\":\"\"}}],\"scatter\":[{\"marker\":{\"line\":{\"color\":\"#283442\"}},\"type\":\"scatter\"}],\"parcoords\":[{\"type\":\"parcoords\",\"line\":{\"colorbar\":{\"outlinewidth\":0,\"ticks\":\"\"}}}],\"scatterpolargl\":[{\"type\":\"scatterpolargl\",\"marker\":{\"colorbar\":{\"outlinewidth\":0,\"ticks\":\"\"}}}],\"bar\":[{\"error_x\":{\"color\":\"#f2f5fa\"},\"error_y\":{\"color\":\"#f2f5fa\"},\"marker\":{\"line\":{\"color\":\"rgb(17,17,17)\",\"width\":0.5},\"pattern\":{\"fillmode\":\"overlay\",\"size\":10,\"solidity\":0.2}},\"type\":\"bar\"}],\"scattergeo\":[{\"type\":\"scattergeo\",\"marker\":{\"colorbar\":{\"outlinewidth\":0,\"ticks\":\"\"}}}],\"scatterpolar\":[{\"type\":\"scatterpolar\",\"marker\":{\"colorbar\":{\"outlinewidth\":0,\"ticks\":\"\"}}}],\"histogram\":[{\"marker\":{\"pattern\":{\"fillmode\":\"overlay\",\"size\":10,\"solidity\":0.2}},\"type\":\"histogram\"}],\"scattergl\":[{\"marker\":{\"line\":{\"color\":\"#283442\"}},\"type\":\"scattergl\"}],\"scatter3d\":[{\"type\":\"scatter3d\",\"line\":{\"colorbar\":{\"outlinewidth\":0,\"ticks\":\"\"}},\"marker\":{\"colorbar\":{\"outlinewidth\":0,\"ticks\":\"\"}}}],\"scattermapbox\":[{\"type\":\"scattermapbox\",\"marker\":{\"colorbar\":{\"outlinewidth\":0,\"ticks\":\"\"}}}],\"scatterternary\":[{\"type\":\"scatterternary\",\"marker\":{\"colorbar\":{\"outlinewidth\":0,\"ticks\":\"\"}}}],\"scattercarpet\":[{\"type\":\"scattercarpet\",\"marker\":{\"colorbar\":{\"outlinewidth\":0,\"ticks\":\"\"}}}],\"carpet\":[{\"aaxis\":{\"endlinecolor\":\"#A2B1C6\",\"gridcolor\":\"#506784\",\"linecolor\":\"#506784\",\"minorgridcolor\":\"#506784\",\"startlinecolor\":\"#A2B1C6\"},\"baxis\":{\"endlinecolor\":\"#A2B1C6\",\"gridcolor\":\"#506784\",\"linecolor\":\"#506784\",\"minorgridcolor\":\"#506784\",\"startlinecolor\":\"#A2B1C6\"},\"type\":\"carpet\"}],\"table\":[{\"cells\":{\"fill\":{\"color\":\"#506784\"},\"line\":{\"color\":\"rgb(17,17,17)\"}},\"header\":{\"fill\":{\"color\":\"#2a3f5f\"},\"line\":{\"color\":\"rgb(17,17,17)\"}},\"type\":\"table\"}],\"barpolar\":[{\"marker\":{\"line\":{\"color\":\"rgb(17,17,17)\",\"width\":0.5},\"pattern\":{\"fillmode\":\"overlay\",\"size\":10,\"solidity\":0.2}},\"type\":\"barpolar\"}],\"pie\":[{\"automargin\":true,\"type\":\"pie\"}]},\"layout\":{\"autotypenumbers\":\"strict\",\"colorway\":[\"#636efa\",\"#EF553B\",\"#00cc96\",\"#ab63fa\",\"#FFA15A\",\"#19d3f3\",\"#FF6692\",\"#B6E880\",\"#FF97FF\",\"#FECB52\"],\"font\":{\"color\":\"#f2f5fa\"},\"hovermode\":\"closest\",\"hoverlabel\":{\"align\":\"left\"},\"paper_bgcolor\":\"rgb(17,17,17)\",\"plot_bgcolor\":\"rgb(17,17,17)\",\"polar\":{\"bgcolor\":\"rgb(17,17,17)\",\"angularaxis\":{\"gridcolor\":\"#506784\",\"linecolor\":\"#506784\",\"ticks\":\"\"},\"radialaxis\":{\"gridcolor\":\"#506784\",\"linecolor\":\"#506784\",\"ticks\":\"\"}},\"ternary\":{\"bgcolor\":\"rgb(17,17,17)\",\"aaxis\":{\"gridcolor\":\"#506784\",\"linecolor\":\"#506784\",\"ticks\":\"\"},\"baxis\":{\"gridcolor\":\"#506784\",\"linecolor\":\"#506784\",\"ticks\":\"\"},\"caxis\":{\"gridcolor\":\"#506784\",\"linecolor\":\"#506784\",\"ticks\":\"\"}},\"coloraxis\":{\"colorbar\":{\"outlinewidth\":0,\"ticks\":\"\"}},\"colorscale\":{\"sequential\":[[0.0,\"#0d0887\"],[0.1111111111111111,\"#46039f\"],[0.2222222222222222,\"#7201a8\"],[0.3333333333333333,\"#9c179e\"],[0.4444444444444444,\"#bd3786\"],[0.5555555555555556,\"#d8576b\"],[0.6666666666666666,\"#ed7953\"],[0.7777777777777778,\"#fb9f3a\"],[0.8888888888888888,\"#fdca26\"],[1.0,\"#f0f921\"]],\"sequentialminus\":[[0.0,\"#0d0887\"],[0.1111111111111111,\"#46039f\"],[0.2222222222222222,\"#7201a8\"],[0.3333333333333333,\"#9c179e\"],[0.4444444444444444,\"#bd3786\"],[0.5555555555555556,\"#d8576b\"],[0.6666666666666666,\"#ed7953\"],[0.7777777777777778,\"#fb9f3a\"],[0.8888888888888888,\"#fdca26\"],[1.0,\"#f0f921\"]],\"diverging\":[[0,\"#8e0152\"],[0.1,\"#c51b7d\"],[0.2,\"#de77ae\"],[0.3,\"#f1b6da\"],[0.4,\"#fde0ef\"],[0.5,\"#f7f7f7\"],[0.6,\"#e6f5d0\"],[0.7,\"#b8e186\"],[0.8,\"#7fbc41\"],[0.9,\"#4d9221\"],[1,\"#276419\"]]},\"xaxis\":{\"gridcolor\":\"#283442\",\"linecolor\":\"#506784\",\"ticks\":\"\",\"title\":{\"standoff\":15},\"zerolinecolor\":\"#283442\",\"automargin\":true,\"zerolinewidth\":2},\"yaxis\":{\"gridcolor\":\"#283442\",\"linecolor\":\"#506784\",\"ticks\":\"\",\"title\":{\"standoff\":15},\"zerolinecolor\":\"#283442\",\"automargin\":true,\"zerolinewidth\":2},\"scene\":{\"xaxis\":{\"backgroundcolor\":\"rgb(17,17,17)\",\"gridcolor\":\"#506784\",\"linecolor\":\"#506784\",\"showbackground\":true,\"ticks\":\"\",\"zerolinecolor\":\"#C8D4E3\",\"gridwidth\":2},\"yaxis\":{\"backgroundcolor\":\"rgb(17,17,17)\",\"gridcolor\":\"#506784\",\"linecolor\":\"#506784\",\"showbackground\":true,\"ticks\":\"\",\"zerolinecolor\":\"#C8D4E3\",\"gridwidth\":2},\"zaxis\":{\"backgroundcolor\":\"rgb(17,17,17)\",\"gridcolor\":\"#506784\",\"linecolor\":\"#506784\",\"showbackground\":true,\"ticks\":\"\",\"zerolinecolor\":\"#C8D4E3\",\"gridwidth\":2}},\"shapedefaults\":{\"line\":{\"color\":\"#f2f5fa\"}},\"annotationdefaults\":{\"arrowcolor\":\"#f2f5fa\",\"arrowhead\":0,\"arrowwidth\":1},\"geo\":{\"bgcolor\":\"rgb(17,17,17)\",\"landcolor\":\"rgb(17,17,17)\",\"subunitcolor\":\"#506784\",\"showland\":true,\"showlakes\":true,\"lakecolor\":\"rgb(17,17,17)\"},\"title\":{\"x\":0.05},\"updatemenudefaults\":{\"bgcolor\":\"#506784\",\"borderwidth\":0},\"sliderdefaults\":{\"bgcolor\":\"#C8D4E3\",\"borderwidth\":1,\"bordercolor\":\"rgb(17,17,17)\",\"tickwidth\":0},\"mapbox\":{\"style\":\"dark\"}}},\"xaxis\":{\"anchor\":\"y\",\"domain\":[0.0,1.0],\"title\":{\"text\":\"Year\"}},\"yaxis\":{\"anchor\":\"x\",\"domain\":[0.0,1.0],\"title\":{\"text\":\"Value (Millions THB)\"}},\"legend\":{\"title\":{\"text\":\"Metric\"},\"tracegroupgap\":0},\"title\":{\"text\":\"Year-wise Trends of Various Metrics (in Millions)\"},\"barmode\":\"group\"},                        {\"responsive\": true}                    ).then(function(){\n                            \nvar gd = document.getElementById('4b02e4fe-4101-4167-9565-a644d70aa16d');\nvar x = new MutationObserver(function (mutations, observer) {{\n        var display = window.getComputedStyle(gd).display;\n        if (!display || display === 'none') {{\n            console.log([gd, 'removed!']);\n            Plotly.purge(gd);\n            observer.disconnect();\n        }}\n}});\n\n// Listen for the removal of the full notebook cells\nvar notebookContainer = gd.closest('#notebook-container');\nif (notebookContainer) {{\n    x.observe(notebookContainer, {childList: true});\n}}\n\n// Listen for the clearing of the current output cell\nvar outputEl = gd.closest('.output');\nif (outputEl) {{\n    x.observe(outputEl, {childList: true});\n}}\n\n                        })                };                });            </script>        </div>"
     },
     "metadata": {},
     "output_type": "display_data"
    }
   ],
   "source": [
    "melted_data_select_col = tax_columns\n",
    "melted_data = year_wise_tax_trends[melted_data_select_col].reset_index().melt(id_vars=['data_year'], var_name='Metric', value_name='Value')\n",
    "\n",
    "# Converting the 'Value' column to millions (THB)\n",
    "melted_data['Value'] /= 1000000  # Convert to millions\n",
    "\n",
    "fig = px.bar(melted_data, x='data_year', y='Value', color='Metric', barmode='group',\n",
    "             labels={'Value': 'Value (Millions THB)', 'data_year': 'Year'},\n",
    "             title='Year-wise Trends of Various Metrics (in Millions)')\n",
    "\n",
    "fig.show()"
   ]
  },
  {
   "cell_type": "markdown",
   "id": "3d230afa30790998",
   "metadata": {
    "collapsed": false
   },
   "source": []
  },
  {
   "cell_type": "markdown",
   "id": "3fe2b8ff1be3ff07",
   "metadata": {
    "collapsed": false
   },
   "source": [
    "### Summary for Each Type of Tax (2561 - 2565)\n",
    "\n",
    "1. **ภาษีโรงเรือนและที่ดิน (Land and House Tax):** Fluctuated significantly over the years.\n",
    "&nbsp;\n",
    "2. **ภาษีบำรุงท้องที่ (Local Maintenance Tax):** Exhibited a decreasing trend.\n",
    "&nbsp;\n",
    "3. **ภาษีป้าย (Signage Tax):** Showed consistent growth, indicating increased revenue from advertising.\n",
    "&nbsp;\n",
    "4. **ภาษีบำรุง อบจ. (Taxes from Tobacco/Oil Retail):** Relatively stable over the years.\n",
    "&nbsp;\n",
    "5. **ภาษีและค่าธรรมเนียมรถยนต์ (Vehicle-Related Taxes and Fees):** Maintained stable revenue.\n",
    "&nbsp;\n",
    "6. **ภาษีมูลค่าเพิ่ม (VAT) Collections:** Saw a significant increase, especially in later years.\n",
    "&nbsp;\n",
    "7. **ภาษีธุรกิจเฉพาะ (Specific Business Tax):** Varied year to year but showed growth.\n",
    "&nbsp;\n",
    "8. **ภาษีสรรพสามิต (Excise Tax):** Generally stable with slight fluctuations.\n",
    "&nbsp;\n",
    "9. **ภาษียาสูบ (Tobacco Tax):** Had minimal changes over the years.\n",
    "&nbsp;\n",
    "10. **ภาษีที่ดินและสิ่งปลูกสร้าง (Land and Construction Tax):** Introduced in 2564, showing a substantial figure by 2565.\n",
    "\n",
    "\"ภาษีโรงเรือน และที่ดิน\" มีการจัดเก็บตาม พระราชบัญญัติภาษีโรงเรือนและที่ดิน พ.ศ.2475 และได้ยกเลิกไปเมื่อวันที่ 10 มีนาคม 2562 ตามพระราชบัญญัติภาษีที่ดินและสิ่งปลูกสร้าง พ.ศ. 2562\n",
    "\n",
    "\"ภาษีที่ดิน และสิ่งปลูกสร้าง\" จัดเก็บตามพระราชบัญญัติภาษีที่ดินและสิ่งปลูกสร้าง พ.ศ. 2562\n",
    "\"มีวัตถุประสงค์เพื่อกระตุ้นให้เกิดการใช้ประโยชน์ที่ดิน หรือพูดง่าย ๆ คือรัฐไม่ต้องการให้ที่ดินถูกทิ้งร้างโดยไม่เกิดการพัฒนา\"\n",
    "&nbsp;\n",
    "Reference: \n",
    "- [Workpoint Today](https://workpointtoday.com/saving-guru-16/)\n",
    "- [Thansettakij](https://www.thansettakij.com/real-estate/566638)\n",
    "\n",
    "Over the period from 2561 to 2565, Thai local governments experienced varied trends in different revenue streams. The **Value Added Tax (VAT) collections** ('ภาษีมูลค่าเพิ่ม'), particularly from พ.ร.บ. กำหนดแผนฯ, emerged as the highest income source, showing a marked increase over the years. In contrast, the **Local Maintenance Tax ('ภาษีบำรุงท้องที่')\n"
   ]
  },
  {
   "cell_type": "markdown",
   "id": "800dd789677a2981",
   "metadata": {
    "collapsed": false
   },
   "source": [
    "### 2. รายได้รวมของแต่ละจังหวัด"
   ]
  },
  {
   "cell_type": "code",
   "execution_count": 22,
   "id": "796c80574c23562b",
   "metadata": {
    "collapsed": false,
    "ExecuteTime": {
     "end_time": "2023-12-07T17:01:00.967326Z",
     "start_time": "2023-12-07T17:01:00.875819Z"
    }
   },
   "outputs": [],
   "source": []
  },
  {
   "cell_type": "code",
   "execution_count": 22,
   "id": "d1a69aee92e7eda3",
   "metadata": {
    "collapsed": false,
    "ExecuteTime": {
     "end_time": "2023-12-07T17:01:00.970331Z",
     "start_time": "2023-12-07T17:01:00.879384Z"
    }
   },
   "outputs": [],
   "source": []
  },
  {
   "cell_type": "code",
   "execution_count": 22,
   "id": "3e5f52fa5e122439",
   "metadata": {
    "collapsed": false,
    "ExecuteTime": {
     "end_time": "2023-12-07T17:01:00.977992Z",
     "start_time": "2023-12-07T17:01:00.882442Z"
    }
   },
   "outputs": [],
   "source": []
  }
 ],
 "metadata": {
  "kernelspec": {
   "display_name": "Python 3 (ipykernel)",
   "language": "python",
   "name": "python3"
  },
  "language_info": {
   "codemirror_mode": {
    "name": "ipython",
    "version": 3
   },
   "file_extension": ".py",
   "mimetype": "text/x-python",
   "name": "python",
   "nbconvert_exporter": "python",
   "pygments_lexer": "ipython3",
   "version": "3.11.5"
  }
 },
 "nbformat": 4,
 "nbformat_minor": 5
}
